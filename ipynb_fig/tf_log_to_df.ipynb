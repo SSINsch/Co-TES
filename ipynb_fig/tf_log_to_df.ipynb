{
 "cells": [
  {
   "cell_type": "markdown",
   "source": [
    "# 그래프 출력 코드"
   ],
   "metadata": {
    "collapsed": false
   }
  },
  {
   "cell_type": "code",
   "execution_count": 1,
   "outputs": [],
   "source": [
    "%matplotlib inline\n",
    "import pandas as pd\n",
    "import matplotlib\n",
    "import matplotlib.pyplot as plt\n",
    "from matplotlib.pyplot import cm\n",
    "import numpy as np\n",
    "from typing import Dict\n",
    "import re\n",
    "from utils.tsboard_aggregator import TensorBoardPrinter\n",
    "\n",
    "color = cm.rainbow(np.linspace(0, 1, 10))\n",
    "\n",
    "def save_fig_acc(target: Dict[str, Dict[str, pd.DataFrame]],\n",
    "                 filter: Dict = None,\n",
    "                 output_file: str = None,\n",
    "                 criterion: str = 'test_acc') -> None:\n",
    "    if filter is None:\n",
    "        filter = {'seed': '1', 'noise_type': 'symmetric', 'noise_rate': '0.2'}\n",
    "\n",
    "    # 1_symmetric_0.2_cnn_345_cnn_345'\n",
    "    # filter에 맞게 target dictionary 내에 key들만 따로 뽑아서 사용\n",
    "    filtered_target_keys = []\n",
    "    regex = '^'\n",
    "    for f in ['seed', 'noise_type', 'noise_rate', 'model1', 'model_opt1', 'model2', 'model_opt2']:\n",
    "        if (f in filter.keys()) and (filter[f] != ''):\n",
    "            regex += filter[f] + '_'\n",
    "        else:\n",
    "            # 문자, 숫자, dot, 사용\n",
    "            regex += '[0-9a-zA-Z]+[\\.0-9a-zA-Z]*'+'_'\n",
    "    regex = regex[:-1] + '$'\n",
    "    pattern = re.compile(regex)\n",
    "\n",
    "    for k in target.keys():\n",
    "        # regex에 해당하면\n",
    "        if pattern.match(k):\n",
    "            filtered_target_keys.append(k)\n",
    "\n",
    "    fig, ax = plt.subplots(figsize=(10, 10))\n",
    "    for k in filtered_target_keys:\n",
    "        seed, noise_type, noise_rate, model1, model_opt1, model2, model_opt2 = k.split('_')\n",
    "        label = '_'.join([model1, model_opt1, model2, model_opt2])\n",
    "        ex = target[k]\n",
    "        loss_keys = [k for k in ex.keys() if 'loss' in k]\n",
    "\n",
    "        # case Test acc\n",
    "        if criterion == 'test_acc':\n",
    "            ax.set(xlabel='Step',\n",
    "                   ylabel='Accuracy', ylim=(0.2, 1),\n",
    "                   title=f'Test Accuracy: seed_{seed}, noise_type_{noise_type}, noise_rate_{noise_rate}')\n",
    "        # case Validation loss (test loss)\n",
    "        elif criterion == 'val_loss':\n",
    "            ax.set(xlabel='Step',\n",
    "                   ylabel='Loss', ylim=(0, 1),\n",
    "                   title=f'Test Loss: seed_{seed}, noise_type_{noise_type}, noise_rate_{noise_rate}')\n",
    "\n",
    "        df = ex[criterion]\n",
    "        ax.plot(df['step'], df['value'], label=label)\n",
    "        ax.legend(loc='lower right')\n",
    "\n",
    "    if output_file is not None:\n",
    "        plt.savefig(output_file+'.png', dpi=200, facecolor='#eeeeee', edgecolor='black')\n",
    "    else:\n",
    "        plt.show()\n",
    "    plt.clf()\n",
    "    plt.cla()\n",
    "    plt.close()"
   ],
   "metadata": {
    "collapsed": false
   }
  },
  {
   "cell_type": "markdown",
   "source": [
    "# sarcasm"
   ],
   "metadata": {
    "collapsed": false
   }
  },
  {
   "cell_type": "code",
   "execution_count": 6,
   "outputs": [],
   "source": [
    "seed = [1, 2, 3, 4]\n",
    "mod = ['cnn', 'lstm', 'fcn']\n",
    "\n",
    "for s in seed:\n",
    "    for m in mod:\n",
    "        p = f'../logs/sarcasm/co-tes/seed{s}/{m}'\n",
    "        tb_printer = TensorBoardPrinter(root_dir=p)\n",
    "        res = tb_printer.recursive_run()\n",
    "        save_fig_acc(res, output_file=f'sentiment_{m}_seed{s}', filter={'seed':f'{s}'})"
   ],
   "metadata": {
    "collapsed": false
   }
  },
  {
   "cell_type": "markdown",
   "source": [
    "# IMDB"
   ],
   "metadata": {
    "collapsed": false
   }
  },
  {
   "cell_type": "code",
   "execution_count": 2,
   "outputs": [],
   "source": [
    "seed = [3]\n",
    "mod = ['cnn', 'lstm', 'fcn']\n",
    "\n",
    "for s in seed:\n",
    "    for m in mod:\n",
    "        p = f'../logs/imdb/co-tes/seed{s}/{m}'\n",
    "        tb_printer = TensorBoardPrinter(root_dir=p)\n",
    "        res = tb_printer.recursive_run()\n",
    "        save_fig_acc(res, output_file=f'imdb_{m}_seed{s}', filter={'seed':f'{s}'})"
   ],
   "metadata": {
    "collapsed": false
   }
  },
  {
   "cell_type": "markdown",
   "source": [
    "# ag_news"
   ],
   "metadata": {
    "collapsed": false
   }
  },
  {
   "cell_type": "code",
   "execution_count": 3,
   "outputs": [],
   "source": [
    "#seed3\n",
    "p = '../logs/ag_news/co-test+cnn34/seed3/cnn'\n",
    "tb_printer = TensorBoardPrinter(root_dir=p)\n",
    "res = tb_printer.recursive_run()\n",
    "save_fig_acc(res, output_file='ag_news_cnn_seed3', filter={'seed':'3'})\n",
    "\n",
    "p = '../logs/ag_news/co-test+cnn34/seed3/lstm'\n",
    "tb_printer = TensorBoardPrinter(root_dir=p)\n",
    "res = tb_printer.recursive_run()\n",
    "save_fig_acc(res, output_file='ag_news_lstm_seed3', filter={'seed':'3'})\n",
    "\n",
    "p = '../logs/ag_news/co-test+cnn34/seed3/fcn'\n",
    "tb_printer = TensorBoardPrinter(root_dir=p)\n",
    "res = tb_printer.recursive_run()\n",
    "save_fig_acc(res, output_file='ag_news_fcn_seed3', filter={'seed':'3'})\n",
    "\n",
    "# seed2\n",
    "p = '../logs/ag_news/co-test+cnn34/seed2/cnn'\n",
    "tb_printer = TensorBoardPrinter(root_dir=p)\n",
    "res = tb_printer.recursive_run()\n",
    "save_fig_acc(res, output_file='ag_news_cnn_seed2', filter={'seed':'2'})\n",
    "\n",
    "p = '../logs/ag_news/co-test+cnn34/seed2/lstm'\n",
    "tb_printer = TensorBoardPrinter(root_dir=p)\n",
    "res = tb_printer.recursive_run()\n",
    "save_fig_acc(res, output_file='ag_news_lstm_seed2', filter={'seed':'2'})\n",
    "\n",
    "p = '../logs/ag_news/co-test+cnn34/seed2/fcn'\n",
    "tb_printer = TensorBoardPrinter(root_dir=p)\n",
    "res = tb_printer.recursive_run()\n",
    "save_fig_acc(res, output_file='ag_news_fcn_seed2', filter={'seed':'2'})"
   ],
   "metadata": {
    "collapsed": false
   }
  },
  {
   "cell_type": "markdown",
   "source": [
    "## CNN 기준 비교"
   ],
   "metadata": {
    "collapsed": false
   }
  },
  {
   "cell_type": "code",
   "execution_count": 4,
   "outputs": [],
   "source": [
    "p = '../logs/news/coteaching_plus/TextCNN_other_models'\n",
    "tb_printer = TensorBoardPrinter(root_dir=p)\n",
    "res = tb_printer.recursive_run()\n",
    "save_fig_acc(res, output_file='cnn_other_models_seed1', filter={'seed':'1'})\n",
    "save_fig_acc(res, output_file='cnn_other_models_seed2', filter={'seed':'2'})\n",
    "save_fig_acc(res, output_file='cnn_other_models_seed3', filter={'seed':'3'})\n",
    "save_fig_acc(res, output_file='cnn_other_models_seed4', filter={'seed':'4'})\n",
    "save_fig_acc(res, output_file='cnn_other_models_seed5', filter={'seed':'5'})"
   ],
   "metadata": {
    "collapsed": false
   }
  },
  {
   "cell_type": "markdown",
   "source": [
    "## LSTM 기준 비교"
   ],
   "metadata": {
    "collapsed": false
   }
  },
  {
   "cell_type": "code",
   "execution_count": 6,
   "outputs": [],
   "source": [
    "p = '../logs/news/coteaching_plus/LSTM_other_models'\n",
    "tb_printer = TensorBoardPrinter(root_dir=p)\n",
    "res = tb_printer.recursive_run()\n",
    "save_fig_acc(res, output_file='lstm_other_models_seed1', filter={'seed':'1'})\n",
    "save_fig_acc(res, output_file='lstm_other_models_seed2', filter={'seed':'2'})\n",
    "save_fig_acc(res, output_file='lstm_other_models_seed3', filter={'seed':'3'})\n",
    "save_fig_acc(res, output_file='lstm_other_models_seed4', filter={'seed':'4'})\n",
    "save_fig_acc(res, output_file='lstm_other_models_seed5', filter={'seed':'5'})"
   ],
   "metadata": {
    "collapsed": false
   }
  },
  {
   "cell_type": "markdown",
   "source": [
    "## FCN 기준 비교"
   ],
   "metadata": {
    "collapsed": false
   }
  },
  {
   "cell_type": "code",
   "execution_count": 7,
   "outputs": [],
   "source": [
    "p = '../logs/news/coteaching_plus/FCN_other_models'\n",
    "tb_printer = TensorBoardPrinter(root_dir=p)\n",
    "res = tb_printer.recursive_run()\n",
    "save_fig_acc(res, output_file='fcn_other_models_seed1', filter={'seed':'1'})\n",
    "save_fig_acc(res, output_file='fcn_other_models_seed2', filter={'seed':'2'})\n",
    "save_fig_acc(res, output_file='fcn_other_models_seed3', filter={'seed':'3'})\n",
    "save_fig_acc(res, output_file='fcn_other_models_seed4', filter={'seed':'4'})\n",
    "save_fig_acc(res, output_file='fcn_other_models_seed5', filter={'seed':'5'})"
   ],
   "metadata": {
    "collapsed": false
   }
  },
  {
   "cell_type": "markdown",
   "source": [
    "## 전체 비교"
   ],
   "metadata": {
    "collapsed": false
   }
  },
  {
   "cell_type": "code",
   "execution_count": 8,
   "outputs": [],
   "source": [
    "p = '../logs/news/coteaching_plus/All_other_models'\n",
    "tb_printer = TensorBoardPrinter(root_dir=p)\n",
    "res = tb_printer.recursive_run()\n",
    "save_fig_acc(res, output_file='all_other_models_seed1', filter={'seed':'1'})\n",
    "save_fig_acc(res, output_file='all_other_models_seed2', filter={'seed':'2'})\n",
    "save_fig_acc(res, output_file='all_other_models_seed3', filter={'seed':'3'})\n",
    "save_fig_acc(res, output_file='all_other_models_seed4', filter={'seed':'4'})\n",
    "save_fig_acc(res, output_file='all_other_models_seed5', filter={'seed':'5'})"
   ],
   "metadata": {
    "collapsed": false
   }
  },
  {
   "cell_type": "markdown",
   "source": [
    "## LSTM hidden 기준 비교"
   ],
   "metadata": {
    "collapsed": false
   }
  },
  {
   "cell_type": "code",
   "execution_count": 9,
   "outputs": [],
   "source": [
    "p = '../logs/news/coteaching_plus/LSTM_hidden'\n",
    "tb_printer = TensorBoardPrinter(root_dir=p)\n",
    "res = tb_printer.recursive_run()\n",
    "save_fig_acc(res, output_file='lstm_hidden_seed1', filter={'seed':'1'})\n",
    "save_fig_acc(res, output_file='lstm_hidden_seed2', filter={'seed':'2'})\n",
    "save_fig_acc(res, output_file='lstm_hidden_seed3', filter={'seed':'3'})\n",
    "save_fig_acc(res, output_file='lstm_hidden_seed4', filter={'seed':'4'})\n",
    "save_fig_acc(res, output_file='lstm_hidden_seed5', filter={'seed':'5'})"
   ],
   "metadata": {
    "collapsed": false
   }
  },
  {
   "cell_type": "markdown",
   "source": [
    "## LSTM hidden (300) 기준 비교 (~60epoch)"
   ],
   "metadata": {
    "collapsed": false
   }
  },
  {
   "cell_type": "code",
   "execution_count": 11,
   "outputs": [],
   "source": [
    "p = '../logs/news/coteaching_plus/lstm_hidden_epoch60/hidden300_other_dim'\n",
    "tb_printer = TensorBoardPrinter(root_dir=p)\n",
    "res = tb_printer.recursive_run()\n",
    "save_fig_acc(res, output_file='lstm_hidden300_e60_seed1', filter={'seed':'1'})\n",
    "save_fig_acc(res, output_file='lstm_hidden300_e60_seed2', filter={'seed':'2'})\n",
    "save_fig_acc(res, output_file='lstm_hidden300_e60_seed3', filter={'seed':'3'})"
   ],
   "metadata": {
    "collapsed": false
   }
  },
  {
   "cell_type": "markdown",
   "source": [
    "## LSTM hidden (100) 기준 비교 (~60epoch)"
   ],
   "metadata": {
    "collapsed": false
   }
  },
  {
   "cell_type": "code",
   "execution_count": 12,
   "outputs": [],
   "source": [
    "p = '../logs/news/coteaching_plus/lstm_hidden_epoch60/hidden100_other_dim'\n",
    "tb_printer = TensorBoardPrinter(root_dir=p)\n",
    "res = tb_printer.recursive_run()\n",
    "save_fig_acc(res, output_file='lstm_hidden100_e60_seed1', filter={'seed':'1'})\n",
    "save_fig_acc(res, output_file='lstm_hidden100_e60_seed2', filter={'seed':'2'})\n",
    "save_fig_acc(res, output_file='lstm_hidden100_e60_seed3', filter={'seed':'3'})"
   ],
   "metadata": {
    "collapsed": false
   }
  },
  {
   "cell_type": "markdown",
   "source": [
    "## LSTM hidden (50) 기준 비교 (~60epoch)"
   ],
   "metadata": {
    "collapsed": false
   }
  },
  {
   "cell_type": "code",
   "execution_count": 13,
   "outputs": [],
   "source": [
    "p = '../logs/news/coteaching_plus/lstm_hidden_epoch60/hidden50_other_dim'\n",
    "tb_printer = TensorBoardPrinter(root_dir=p)\n",
    "res = tb_printer.recursive_run()\n",
    "save_fig_acc(res, output_file='lstm_hidden50_e60_seed1', filter={'seed':'1'})\n",
    "save_fig_acc(res, output_file='lstm_hidden50_e60_seed2', filter={'seed':'2'})\n",
    "save_fig_acc(res, output_file='lstm_hidden50_e60_seed3', filter={'seed':'3'})"
   ],
   "metadata": {
    "collapsed": false
   }
  },
  {
   "cell_type": "markdown",
   "source": [
    "## CNN kernel [3,4] 기준 비교"
   ],
   "metadata": {
    "collapsed": false
   }
  },
  {
   "cell_type": "code",
   "execution_count": 3,
   "outputs": [],
   "source": [
    "p = '../logs/news/coteaching_plus/TextCNN_kernel/kernel34_others'\n",
    "tb_printer = TensorBoardPrinter(root_dir=p)\n",
    "res = tb_printer.recursive_run()\n",
    "save_fig_acc(res, output_file='cnn_kernel34_seed1', filter={'seed':'1'})\n",
    "save_fig_acc(res, output_file='cnn_kernel34_seed2', filter={'seed':'2'})\n",
    "save_fig_acc(res, output_file='cnn_kernel34_seed3', filter={'seed':'3'})\n",
    "save_fig_acc(res, output_file='cnn_kernel34_seed4', filter={'seed':'4'})\n",
    "save_fig_acc(res, output_file='cnn_kernel34_seed5', filter={'seed':'5'})"
   ],
   "metadata": {
    "collapsed": false
   }
  },
  {
   "cell_type": "markdown",
   "source": [
    "## CNN kernel [5,6] 기준 비교"
   ],
   "metadata": {
    "collapsed": false
   }
  },
  {
   "cell_type": "code",
   "execution_count": 4,
   "outputs": [],
   "source": [
    "p = '../logs/news/coteaching_plus/TextCNN_kernel/kernel56_others'\n",
    "tb_printer = TensorBoardPrinter(root_dir=p)\n",
    "res = tb_printer.recursive_run()\n",
    "save_fig_acc(res, output_file='cnn_kernel56_seed1', filter={'seed':'1'})\n",
    "save_fig_acc(res, output_file='cnn_kernel56_seed2', filter={'seed':'2'})\n",
    "save_fig_acc(res, output_file='cnn_kernel56_seed3', filter={'seed':'3'})\n",
    "save_fig_acc(res, output_file='cnn_kernel56_seed4', filter={'seed':'4'})\n",
    "save_fig_acc(res, output_file='cnn_kernel56_seed5', filter={'seed':'5'})"
   ],
   "metadata": {
    "collapsed": false
   }
  },
  {
   "cell_type": "markdown",
   "source": [
    "## CNN kernel [3,4,5] 기준 비교"
   ],
   "metadata": {
    "collapsed": false
   }
  },
  {
   "cell_type": "code",
   "execution_count": 5,
   "outputs": [],
   "source": [
    "p = '../logs/news/coteaching_plus/TextCNN_kernel/kernel345_others'\n",
    "tb_printer = TensorBoardPrinter(root_dir=p)\n",
    "res = tb_printer.recursive_run()\n",
    "save_fig_acc(res, output_file='cnn_kernel345_seed1', filter={'seed':'1'})\n",
    "save_fig_acc(res, output_file='cnn_kernel345_seed2', filter={'seed':'2'})\n",
    "save_fig_acc(res, output_file='cnn_kernel345_seed3', filter={'seed':'3'})\n",
    "save_fig_acc(res, output_file='cnn_kernel345_seed4', filter={'seed':'4'})\n",
    "save_fig_acc(res, output_file='cnn_kernel345_seed5', filter={'seed':'5'})"
   ],
   "metadata": {
    "collapsed": false
   }
  },
  {
   "cell_type": "markdown",
   "source": [
    "# Loss 그래프 뽑아보기"
   ],
   "metadata": {
    "collapsed": false
   }
  },
  {
   "cell_type": "code",
   "execution_count": 9,
   "outputs": [],
   "source": [
    "p = '../logs/news/coteaching_plus/TextCNN_other_models'\n",
    "tb_printer = TensorBoardPrinter(root_dir=p)\n",
    "res = tb_printer.recursive_run()\n",
    "save_fig_acc(res, output_file='loss_cnn_other_models_seed1', filter={'seed':'1'}, criterion='val_loss')\n",
    "save_fig_acc(res, output_file='loss_cnn_other_models_seed2', filter={'seed':'2'}, criterion='val_loss')\n",
    "save_fig_acc(res, output_file='loss_cnn_other_models_seed3', filter={'seed':'3'}, criterion='val_loss')\n",
    "save_fig_acc(res, output_file='loss_cnn_other_models_seed4', filter={'seed':'4'}, criterion='val_loss')\n",
    "save_fig_acc(res, output_file='loss_cnn_other_models_seed5', filter={'seed':'5'}, criterion='val_loss')"
   ],
   "metadata": {
    "collapsed": false
   }
  },
  {
   "cell_type": "code",
   "execution_count": 10,
   "outputs": [],
   "source": [
    "p = '../logs/news/coteaching_plus/LSTM_other_models'\n",
    "tb_printer = TensorBoardPrinter(root_dir=p)\n",
    "res = tb_printer.recursive_run()\n",
    "save_fig_acc(res, output_file='loss_lstm_other_models_seed1', filter={'seed':'1'}, criterion='val_loss')\n",
    "save_fig_acc(res, output_file='loss_lstm_other_models_seed2', filter={'seed':'2'}, criterion='val_loss')\n",
    "save_fig_acc(res, output_file='loss_lstm_other_models_seed3', filter={'seed':'3'}, criterion='val_loss')\n",
    "save_fig_acc(res, output_file='loss_lstm_other_models_seed4', filter={'seed':'4'}, criterion='val_loss')\n",
    "save_fig_acc(res, output_file='loss_lstm_other_models_seed5', filter={'seed':'5'}, criterion='val_loss')"
   ],
   "metadata": {
    "collapsed": false
   }
  },
  {
   "cell_type": "code",
   "execution_count": 11,
   "outputs": [],
   "source": [
    "p = '../logs/news/coteaching_plus/FCN_other_models'\n",
    "tb_printer = TensorBoardPrinter(root_dir=p)\n",
    "res = tb_printer.recursive_run()\n",
    "save_fig_acc(res, output_file='loss_fcn_other_models_seed1', filter={'seed':'1'}, criterion='val_loss')\n",
    "save_fig_acc(res, output_file='loss_fcn_other_models_seed2', filter={'seed':'2'}, criterion='val_loss')\n",
    "save_fig_acc(res, output_file='loss_fcn_other_models_seed3', filter={'seed':'3'}, criterion='val_loss')\n",
    "save_fig_acc(res, output_file='loss_fcn_other_models_seed4', filter={'seed':'4'}, criterion='val_loss')\n",
    "save_fig_acc(res, output_file='loss_fcn_other_models_seed5', filter={'seed':'5'}, criterion='val_loss')"
   ],
   "metadata": {
    "collapsed": false
   }
  },
  {
   "cell_type": "markdown",
   "source": [
    "# Co-teaching 실험"
   ],
   "metadata": {
    "collapsed": false
   }
  },
  {
   "cell_type": "code",
   "execution_count": 4,
   "outputs": [],
   "source": [
    "p = '../logs/news/coteaching'\n",
    "tb_printer = TensorBoardPrinter(root_dir=p)\n",
    "res = tb_printer.recursive_run()\n",
    "save_fig_acc(res, output_file='other_models_seed1', filter={'seed':'1'})\n",
    "save_fig_acc(res, output_file='other_models_seed2', filter={'seed':'2'})\n",
    "save_fig_acc(res, output_file='other_models_seed3', filter={'seed':'3'})"
   ],
   "metadata": {
    "collapsed": false
   }
  },
  {
   "cell_type": "code",
   "execution_count": 6,
   "outputs": [],
   "source": [
    "p = '../logs/news/coteaching'\n",
    "tb_printer = TensorBoardPrinter(root_dir=p)\n",
    "res = tb_printer.recursive_run()\n",
    "save_fig_acc(res, output_file='loss_other_models_seed1', filter={'seed':'1'}, criterion='val_loss')\n",
    "save_fig_acc(res, output_file='loss_other_models_seed2', filter={'seed':'2'}, criterion='val_loss')\n",
    "save_fig_acc(res, output_file='loss_other_models_seed3', filter={'seed':'3'}, criterion='val_loss')"
   ],
   "metadata": {
    "collapsed": false
   }
  },
  {
   "cell_type": "markdown",
   "source": [
    "# 200 Epoch 재실험"
   ],
   "metadata": {
    "collapsed": false
   }
  },
  {
   "cell_type": "code",
   "execution_count": 3,
   "outputs": [],
   "source": [
    "p = '../logs/news/coteaching_plus/Epoch200'\n",
    "tb_printer = TensorBoardPrinter(root_dir=p)\n",
    "res = tb_printer.recursive_run()\n",
    "save_fig_acc(res, output_file='other_models_seed1', filter={'seed':'1'})\n",
    "save_fig_acc(res, output_file='other_models_seed3', filter={'seed':'3'})"
   ],
   "metadata": {
    "collapsed": false
   }
  },
  {
   "cell_type": "code",
   "execution_count": 5,
   "outputs": [],
   "source": [
    "p = '../logs/news/coteaching_plus/Epoch200'\n",
    "tb_printer = TensorBoardPrinter(root_dir=p)\n",
    "res = tb_printer.recursive_run()\n",
    "save_fig_acc(res, output_file='loss_other_models_seed1', filter={'seed':'1'}, criterion='val_loss')\n",
    "save_fig_acc(res, output_file='loss_other_models_seed3', filter={'seed':'3'}, criterion='val_loss')"
   ],
   "metadata": {
    "collapsed": false
   }
  },
  {
   "cell_type": "markdown",
   "source": [
    "# init-epoch 20"
   ],
   "metadata": {
    "collapsed": false
   }
  },
  {
   "cell_type": "code",
   "execution_count": 3,
   "outputs": [],
   "source": [
    "p = '../logs/news/coteaching_plus'\n",
    "tb_printer = TensorBoardPrinter(root_dir=p)\n",
    "res = tb_printer.recursive_run()\n",
    "save_fig_acc(res, output_file='other_models_init_epoch20_seed1', filter={'seed':'1'})\n",
    "save_fig_acc(res, output_file='loss_other_models_init_epoch20_seed1', filter={'seed':'1'}, criterion='val_loss')"
   ],
   "metadata": {
    "collapsed": false
   }
  },
  {
   "cell_type": "markdown",
   "source": [
    "# CNN + (FCN-dim)"
   ],
   "metadata": {
    "collapsed": false
   }
  },
  {
   "cell_type": "code",
   "execution_count": 5,
   "outputs": [],
   "source": [
    "p = '../logs/news/done-coteaching_plus/CNN_FCN-dim'\n",
    "tb_printer = TensorBoardPrinter(root_dir=p)\n",
    "res = tb_printer.recursive_run()\n",
    "save_fig_acc(res, output_file='cnn+(fcn_dim)-seed1', filter={'seed':'1'})\n",
    "save_fig_acc(res, output_file='loss_cnn+(fcn_dim)-seed1', filter={'seed':'1'}, criterion='val_loss')"
   ],
   "metadata": {
    "collapsed": false
   }
  },
  {
   "cell_type": "markdown",
   "source": [
    "# CNN + (LSTM-hidden)"
   ],
   "metadata": {
    "collapsed": false
   }
  },
  {
   "cell_type": "code",
   "execution_count": 6,
   "outputs": [],
   "source": [
    "p = '../logs/news/done-coteaching_plus/cnn+(lstm_dim)'\n",
    "tb_printer = TensorBoardPrinter(root_dir=p)\n",
    "res = tb_printer.recursive_run()\n",
    "save_fig_acc(res, output_file='cnn+(lstm_hidden)-seed1', filter={'seed':'1'})\n",
    "save_fig_acc(res, output_file='loss_cnn+(lstm_hidden)-seed1', filter={'seed':'1'}, criterion='val_loss')"
   ],
   "metadata": {
    "collapsed": false
   }
  }
 ],
 "metadata": {
  "kernelspec": {
   "display_name": "Python 3",
   "language": "python",
   "name": "python3"
  },
  "language_info": {
   "codemirror_mode": {
    "name": "ipython",
    "version": 2
   },
   "file_extension": ".py",
   "mimetype": "text/x-python",
   "name": "python",
   "nbconvert_exporter": "python",
   "pygments_lexer": "ipython2",
   "version": "2.7.6"
  }
 },
 "nbformat": 4,
 "nbformat_minor": 0
}
