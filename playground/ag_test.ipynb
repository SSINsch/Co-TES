{
 "cells": [
  {
   "cell_type": "code",
   "execution_count": 1,
   "metadata": {
    "collapsed": true
   },
   "outputs": [
    {
     "name": "stdout",
     "output_type": "stream",
     "text": [
      "(120000, 3) (7600, 3)\n",
      "3    30000\n",
      "4    30000\n",
      "2    30000\n",
      "1    30000\n",
      "Name: labels, dtype: int64\n",
      "3    1900\n",
      "4    1900\n",
      "2    1900\n",
      "1    1900\n",
      "Name: labels, dtype: int64\n",
      "               labels                                              title  \\\n",
      "labels                                                                     \n",
      "1      40546        1      Haitians Pray for 1,500 Killed by Jeanne (AP)   \n",
      "       48245        1      U.S.-Led Forces Tighten Grip, Draw Complaints   \n",
      "       118691       1  U.N. Says Bugging Device Found at Its Geneva H...   \n",
      "       33489        1            Kerry Questions Bush's Judgment on Iraq   \n",
      "       83190        1  Seoul Asks Bush to Focus on N.Korea Nuclear Cr...   \n",
      "\n",
      "                                                            data  \n",
      "labels                                                            \n",
      "1      40546   AP - In a cathedral ankle-deep in mud and over...  \n",
      "       48245    SAMARRA, Iraq (Reuters) - U.S.-led forces tig...  \n",
      "       118691  Reuters - The United Nations said on Thursday ...  \n",
      "       33489   NEW YORK - Sen. John Kerry said Monday that mi...  \n",
      "       83190   South Korean President Roh Moo-hyun called new...  \n",
      "(120000, 3)\n",
      "3    30000\n",
      "1    30000\n",
      "4    30000\n",
      "2    30000\n",
      "Name: labels, dtype: int64\n"
     ]
    },
    {
     "data": {
      "text/plain": "   labels                                              title  \\\n0       3              SEC plan would end exchange free rein   \n1       1  Europe Rejects Iran's Demand to Use Uranium Eq...   \n2       3                              Kreme-Filled Earnings   \n3       1                        Ukrainian warns of protests   \n4       4   Fishing Just for Fun Damages Stocks, Study Finds   \n\n                                                data  \n0  The nation #39;s stock exchanges would be forc...  \n1  Iran is demanding the right to operate uranium...  \n2  Krispy Kreme shareholders hope for a break fro...  \n3  KIEV -- Prime Minister Viktor Yanukovych said ...  \n4  WASHINGTON - People fishing for sport are doin...  ",
      "text/html": "<div>\n<style scoped>\n    .dataframe tbody tr th:only-of-type {\n        vertical-align: middle;\n    }\n\n    .dataframe tbody tr th {\n        vertical-align: top;\n    }\n\n    .dataframe thead th {\n        text-align: right;\n    }\n</style>\n<table border=\"1\" class=\"dataframe\">\n  <thead>\n    <tr style=\"text-align: right;\">\n      <th></th>\n      <th>labels</th>\n      <th>title</th>\n      <th>data</th>\n    </tr>\n  </thead>\n  <tbody>\n    <tr>\n      <th>0</th>\n      <td>3</td>\n      <td>SEC plan would end exchange free rein</td>\n      <td>The nation #39;s stock exchanges would be forc...</td>\n    </tr>\n    <tr>\n      <th>1</th>\n      <td>1</td>\n      <td>Europe Rejects Iran's Demand to Use Uranium Eq...</td>\n      <td>Iran is demanding the right to operate uranium...</td>\n    </tr>\n    <tr>\n      <th>2</th>\n      <td>3</td>\n      <td>Kreme-Filled Earnings</td>\n      <td>Krispy Kreme shareholders hope for a break fro...</td>\n    </tr>\n    <tr>\n      <th>3</th>\n      <td>1</td>\n      <td>Ukrainian warns of protests</td>\n      <td>KIEV -- Prime Minister Viktor Yanukovych said ...</td>\n    </tr>\n    <tr>\n      <th>4</th>\n      <td>4</td>\n      <td>Fishing Just for Fun Damages Stocks, Study Finds</td>\n      <td>WASHINGTON - People fishing for sport are doin...</td>\n    </tr>\n  </tbody>\n</table>\n</div>"
     },
     "execution_count": 1,
     "metadata": {},
     "output_type": "execute_result"
    }
   ],
   "source": [
    "import pandas as pd\n",
    "import pickle\n",
    "import numpy as np\n",
    "\n",
    "p_train = r'../data/ag_train.csv'\n",
    "p_test = r'../data/ag_test.csv'\n",
    "df_train = pd.read_csv(p_train, header=None)\n",
    "df_test = pd.read_csv(p_test, header=None)\n",
    "df_train.columns = ['labels', 'title', 'data']\n",
    "df_test.columns = ['labels', 'title', 'data']\n",
    "print(df_train.shape, df_test.shape)\n",
    "print(df_train['labels'].value_counts())\n",
    "print(df_test['labels'].value_counts())\n",
    "\n",
    "sample_df = df_train.groupby('labels').apply(lambda x: x.sample(frac=1.0, random_state=1))\n",
    "print(sample_df.head())\n",
    "# sample_df = sample_df.sample(frac=1)\n",
    "sample_df = sample_df.sample(frac=1, random_state=1).reset_index(drop=True)\n",
    "print(sample_df.shape)\n",
    "print(sample_df['labels'].value_counts())\n",
    "sample_df.to_csv('../data/ag_train_sample.csv')\n",
    "df_train = sample_df\n",
    "\n",
    "df_train.head()"
   ]
  },
  {
   "cell_type": "code",
   "execution_count": 2,
   "outputs": [
    {
     "data": {
      "text/plain": "        labels                                              title  \\\n0            2              SEC plan would end exchange free rein   \n1            0  Europe Rejects Iran's Demand to Use Uranium Eq...   \n2            2                              Kreme-Filled Earnings   \n3            0                        Ukrainian warns of protests   \n4            3   Fishing Just for Fun Damages Stocks, Study Finds   \n...        ...                                                ...   \n119995       1                 Man U breaks off talks with Glazer   \n119996       3    Web Safety Group Launches Anti-Spyware Campaign   \n119997       0          Blasts, Gunfire Shake Najaf As Talks Drag   \n119998       2    Production Quota Hike Opposed by OPEC Ministers   \n119999       3  Broad Study Suggests a Lower Tolerance for Exp...   \n\n                                                     data  \\\n0       The nation #39;s stock exchanges would be forc...   \n1       Iran is demanding the right to operate uranium...   \n2       Krispy Kreme shareholders hope for a break fro...   \n3       KIEV -- Prime Minister Viktor Yanukovych said ...   \n4       WASHINGTON - People fishing for sport are doin...   \n...                                                   ...   \n119995  Manchester United broke off talks Monday with ...   \n119996  A prominent Internet safety organization and l...   \n119997  NAJAF, Iraq - Explosions and gunfire shook Naj...   \n119998  Several OPEC members argued that the organizat...   \n119999  The first study of a large group of workers br...   \n\n                                                      raw  \n0       SEC plan would end exchange free rein The nati...  \n1       Europe Rejects Iran's Demand to Use Uranium Eq...  \n2       Kreme-Filled Earnings Krispy Kreme shareholder...  \n3       Ukrainian warns of protests KIEV -- Prime Mini...  \n4       Fishing Just for Fun Damages Stocks, Study Fin...  \n...                                                   ...  \n119995  Man U breaks off talks with Glazer Manchester ...  \n119996  Web Safety Group Launches Anti-Spyware Campaig...  \n119997  Blasts, Gunfire Shake Najaf As Talks Drag NAJA...  \n119998  Production Quota Hike Opposed by OPEC Minister...  \n119999  Broad Study Suggests a Lower Tolerance for Exp...  \n\n[120000 rows x 4 columns]",
      "text/html": "<div>\n<style scoped>\n    .dataframe tbody tr th:only-of-type {\n        vertical-align: middle;\n    }\n\n    .dataframe tbody tr th {\n        vertical-align: top;\n    }\n\n    .dataframe thead th {\n        text-align: right;\n    }\n</style>\n<table border=\"1\" class=\"dataframe\">\n  <thead>\n    <tr style=\"text-align: right;\">\n      <th></th>\n      <th>labels</th>\n      <th>title</th>\n      <th>data</th>\n      <th>raw</th>\n    </tr>\n  </thead>\n  <tbody>\n    <tr>\n      <th>0</th>\n      <td>2</td>\n      <td>SEC plan would end exchange free rein</td>\n      <td>The nation #39;s stock exchanges would be forc...</td>\n      <td>SEC plan would end exchange free rein The nati...</td>\n    </tr>\n    <tr>\n      <th>1</th>\n      <td>0</td>\n      <td>Europe Rejects Iran's Demand to Use Uranium Eq...</td>\n      <td>Iran is demanding the right to operate uranium...</td>\n      <td>Europe Rejects Iran's Demand to Use Uranium Eq...</td>\n    </tr>\n    <tr>\n      <th>2</th>\n      <td>2</td>\n      <td>Kreme-Filled Earnings</td>\n      <td>Krispy Kreme shareholders hope for a break fro...</td>\n      <td>Kreme-Filled Earnings Krispy Kreme shareholder...</td>\n    </tr>\n    <tr>\n      <th>3</th>\n      <td>0</td>\n      <td>Ukrainian warns of protests</td>\n      <td>KIEV -- Prime Minister Viktor Yanukovych said ...</td>\n      <td>Ukrainian warns of protests KIEV -- Prime Mini...</td>\n    </tr>\n    <tr>\n      <th>4</th>\n      <td>3</td>\n      <td>Fishing Just for Fun Damages Stocks, Study Finds</td>\n      <td>WASHINGTON - People fishing for sport are doin...</td>\n      <td>Fishing Just for Fun Damages Stocks, Study Fin...</td>\n    </tr>\n    <tr>\n      <th>...</th>\n      <td>...</td>\n      <td>...</td>\n      <td>...</td>\n      <td>...</td>\n    </tr>\n    <tr>\n      <th>119995</th>\n      <td>1</td>\n      <td>Man U breaks off talks with Glazer</td>\n      <td>Manchester United broke off talks Monday with ...</td>\n      <td>Man U breaks off talks with Glazer Manchester ...</td>\n    </tr>\n    <tr>\n      <th>119996</th>\n      <td>3</td>\n      <td>Web Safety Group Launches Anti-Spyware Campaign</td>\n      <td>A prominent Internet safety organization and l...</td>\n      <td>Web Safety Group Launches Anti-Spyware Campaig...</td>\n    </tr>\n    <tr>\n      <th>119997</th>\n      <td>0</td>\n      <td>Blasts, Gunfire Shake Najaf As Talks Drag</td>\n      <td>NAJAF, Iraq - Explosions and gunfire shook Naj...</td>\n      <td>Blasts, Gunfire Shake Najaf As Talks Drag NAJA...</td>\n    </tr>\n    <tr>\n      <th>119998</th>\n      <td>2</td>\n      <td>Production Quota Hike Opposed by OPEC Ministers</td>\n      <td>Several OPEC members argued that the organizat...</td>\n      <td>Production Quota Hike Opposed by OPEC Minister...</td>\n    </tr>\n    <tr>\n      <th>119999</th>\n      <td>3</td>\n      <td>Broad Study Suggests a Lower Tolerance for Exp...</td>\n      <td>The first study of a large group of workers br...</td>\n      <td>Broad Study Suggests a Lower Tolerance for Exp...</td>\n    </tr>\n  </tbody>\n</table>\n<p>120000 rows × 4 columns</p>\n</div>"
     },
     "execution_count": 2,
     "metadata": {},
     "output_type": "execute_result"
    }
   ],
   "source": [
    "df_train['raw'] = df_train['title'] + ' '+df_train['data']\n",
    "df_test['raw'] = df_test['title'] + ' '+df_test['data']\n",
    "\n",
    "# label이 1~4까지라서 => 0~3 까지로 변경해주어야 함\n",
    "df_train['labels'] = df_train['labels'] - 1\n",
    "df_test['labels'] = df_test['labels'] - 1\n",
    "\n",
    "df_train"
   ],
   "metadata": {
    "collapsed": false
   }
  },
  {
   "cell_type": "markdown",
   "source": [
    "# Tokenizing 미리 해서 저장해두기\n",
    "\n",
    "- train dataset에서 vocab 추출하고\n",
    "- 추출한 vocab, token2idx로 train_data 바꿔치기 하고\n",
    "- train_data의 max 길이로 패딩 (BasicCollator 참조)\n",
    "- train_data랑, train_labels 묶어서 ag_train.pkl 로 저장\n",
    "- 마찬가지로\n",
    "- 추출한 vocab, token2idx로 test_data 바꿔치기 하고\n",
    "- train_data의 max 길이로 패딩 (BasicCollator 참조)\n",
    "- test_data, test_labels 묶어서 ag_test.pkl 로 저장"
   ],
   "metadata": {
    "collapsed": false
   }
  },
  {
   "cell_type": "code",
   "execution_count": 3,
   "outputs": [
    {
     "name": "stdout",
     "output_type": "stream",
     "text": [
      "create vocab\n",
      "sorting\n",
      "tokenizing\n",
      "2    30000\n",
      "0    30000\n",
      "3    30000\n",
      "1    30000\n",
      "Name: labels, dtype: int64\n",
      "2    1900\n",
      "3    1900\n",
      "1    1900\n",
      "0    1900\n",
      "Name: labels, dtype: int64\n"
     ]
    }
   ],
   "source": [
    "from  collections import Counter\n",
    "from typing import List, Tuple, Dict\n",
    "from nltk.corpus import stopwords\n",
    "import re\n",
    "\n",
    "\n",
    "def preprocess_string(s):\n",
    "    # Remove all non-word characters (everything except numbers and letters)\n",
    "    s = re.sub(r\"[^\\w\\s]\", '', s)\n",
    "    # Replace all runs of whitespaces with no space\n",
    "    s = re.sub(r\"\\s+\", '', s)\n",
    "    # replace digits with no space\n",
    "    s = re.sub(r\"\\d\", '', s)\n",
    "\n",
    "    return s\n",
    "\n",
    "def tokenize(x_train,y_train,x_val,y_val, vocab=19998):\n",
    "    word_list = []\n",
    "\n",
    "    print(\"create vocab\")\n",
    "    stop_words = set(stopwords.words('english'))\n",
    "    for sent in x_train:\n",
    "        sent = sent.replace(r\"<br />\",' ')\n",
    "        for word in sent.lower().split():\n",
    "            word = preprocess_string(word)\n",
    "            if word not in stop_words and word != '':\n",
    "                word_list.append(word)\n",
    "\n",
    "    print(\"sorting\")\n",
    "    corpus = Counter(word_list)\n",
    "    # sorting on the basis of most common words\n",
    "    corpus_ = sorted(corpus,key=corpus.get,reverse=True)[:vocab]\n",
    "    # creating a dict\n",
    "    onehot_dict = {w:i+1 for i, w in enumerate(corpus_)}\n",
    "\n",
    "    print('tokenizing')\n",
    "    # tokenize\n",
    "    final_list_train,final_list_test = [],[]\n",
    "    for sent in x_train:\n",
    "            final_list_train.append([onehot_dict[preprocess_string(word)] for word in sent.lower().split() if preprocess_string(word) in onehot_dict.keys()])\n",
    "    for sent in x_val:\n",
    "            final_list_test.append([onehot_dict[preprocess_string(word)] for word in sent.lower().split() if preprocess_string(word) in onehot_dict.keys()])\n",
    "\n",
    "    encoded_train = y_train\n",
    "    encoded_test = y_val\n",
    "\n",
    "    return final_list_train, encoded_train, final_list_test, encoded_test,onehot_dict\n",
    "\n",
    "x_train,y_train,x_test,y_test,vocab = tokenize(x_train=df_train['raw'],\n",
    "                                               y_train=df_train['labels'],\n",
    "                                               x_val=df_test['raw'],\n",
    "                                               y_val=df_test['labels'])\n",
    "print(y_train.value_counts())\n",
    "print(y_test.value_counts())"
   ],
   "metadata": {
    "collapsed": false
   }
  },
  {
   "cell_type": "code",
   "execution_count": 4,
   "outputs": [
    {
     "data": {
      "text/plain": "<Figure size 640x480 with 1 Axes>",
      "image/png": "[encoded data removed]"
     },
     "metadata": {},
     "output_type": "display_data"
    },
    {
     "data": {
      "text/plain": "count    120000.000000\nmean         23.465683\nstd           6.157582\nmin           2.000000\n25%          19.000000\n50%          23.000000\n75%          27.000000\nmax          96.000000\ndtype: float64"
     },
     "execution_count": 4,
     "metadata": {},
     "output_type": "execute_result"
    }
   ],
   "source": [
    "import matplotlib.pyplot as plt\n",
    "\n",
    "rev_len = [len(i) for i in x_train]\n",
    "pd.Series(rev_len).hist()\n",
    "plt.show()\n",
    "pd.Series(rev_len).describe()"
   ],
   "metadata": {
    "collapsed": false
   }
  },
  {
   "cell_type": "code",
   "execution_count": 5,
   "outputs": [
    {
     "name": "stdout",
     "output_type": "stream",
     "text": [
      "120000 120000\n",
      "7600 7600\n",
      "60\n"
     ]
    }
   ],
   "source": [
    "max_len = 60\n",
    "\n",
    "def padding_(sentences, seq_len):\n",
    "    features = np.zeros((len(sentences), seq_len),dtype=int)\n",
    "    for ii, review in enumerate(sentences):\n",
    "        if len(review) != 0:\n",
    "            features[ii, -len(review):] = np.array(review)[:seq_len]\n",
    "    return features\n",
    "\n",
    "x_train_pad = padding_(x_train,max_len)\n",
    "x_test_pad = padding_(x_test,max_len)\n",
    "print(len(x_train_pad), len(y_train))\n",
    "print(len(x_test_pad), len(y_test))\n",
    "print(len(x_train_pad[0]))"
   ],
   "metadata": {
    "collapsed": false
   }
  },
  {
   "cell_type": "code",
   "execution_count": 6,
   "outputs": [
    {
     "name": "stdout",
     "output_type": "stream",
     "text": [
      "(120000, 60)\n",
      "(120000,)\n",
      "now dumping pickle\n"
     ]
    }
   ],
   "source": [
    "train_tokenized_idx = np.array(x_train_pad)\n",
    "train_labels_np = np.array(y_train)\n",
    "train_data = (train_tokenized_idx, train_labels_np)\n",
    "print(train_tokenized_idx.shape)\n",
    "print(train_labels_np.shape)\n",
    "\n",
    "print('now dumping pickle')\n",
    "with open(file='ag_train_sample.pkl', mode='wb') as f:\n",
    "    pickle.dump(train_data, f)"
   ],
   "metadata": {
    "collapsed": false
   }
  },
  {
   "cell_type": "code",
   "execution_count": 7,
   "outputs": [
    {
     "name": "stdout",
     "output_type": "stream",
     "text": [
      "(7600, 60)\n",
      "(7600,)\n",
      "now dumping test pickle\n"
     ]
    }
   ],
   "source": [
    "test_tokenized_idx = np.array(x_test_pad)\n",
    "test_labels_np = np.array(y_test)\n",
    "test_data = (test_tokenized_idx, test_labels_np)\n",
    "print(test_tokenized_idx.shape)\n",
    "print(test_labels_np.shape)\n",
    "\n",
    "print('now dumping test pickle')\n",
    "# with open(file='ag_test.pkl', mode='wb') as f:\n",
    "with open(file='ag_test_sample.pkl', mode='wb') as f:\n",
    "    pickle.dump(test_data, f)"
   ],
   "metadata": {
    "collapsed": false
   }
  }
 ],
 "metadata": {
  "kernelspec": {
   "display_name": "Python 3",
   "language": "python",
   "name": "python3"
  },
  "language_info": {
   "codemirror_mode": {
    "name": "ipython",
    "version": 2
   },
   "file_extension": ".py",
   "mimetype": "text/x-python",
   "name": "python",
   "nbconvert_exporter": "python",
   "pygments_lexer": "ipython2",
   "version": "2.7.6"
  }
 },
 "nbformat": 4,
 "nbformat_minor": 0
}
