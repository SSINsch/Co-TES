{
 "cells": [
  {
   "cell_type": "code",
   "execution_count": 8,
   "metadata": {
    "collapsed": true
   },
   "outputs": [
    {
     "name": "stdout",
     "output_type": "stream",
     "text": [
      "(3600000, 2) 0    1800000\n",
      "1    1800000\n",
      "Name: sentiment, dtype: int64\n",
      "(100000, 2) 0    50067\n",
      "1    49933\n",
      "Name: sentiment, dtype: int64\n"
     ]
    },
    {
     "data": {
      "text/plain": "                                              review  sentiment\n0  Excellent home help for parents: Volume 1 of D...          0\n1  Stay far, far away.: I made it through about 6...          1\n2  Lost Woods: Lost WoodsI didn't really understa...          1\n3  Renaissance -12, Women's brown suead shoes: Re...          1\n4  Best Novel I've Read This Year: Intrigued by t...          0",
      "text/html": "<div>\n<style scoped>\n    .dataframe tbody tr th:only-of-type {\n        vertical-align: middle;\n    }\n\n    .dataframe tbody tr th {\n        vertical-align: top;\n    }\n\n    .dataframe thead th {\n        text-align: right;\n    }\n</style>\n<table border=\"1\" class=\"dataframe\">\n  <thead>\n    <tr style=\"text-align: right;\">\n      <th></th>\n      <th>review</th>\n      <th>sentiment</th>\n    </tr>\n  </thead>\n  <tbody>\n    <tr>\n      <th>0</th>\n      <td>Excellent home help for parents: Volume 1 of D...</td>\n      <td>0</td>\n    </tr>\n    <tr>\n      <th>1</th>\n      <td>Stay far, far away.: I made it through about 6...</td>\n      <td>1</td>\n    </tr>\n    <tr>\n      <th>2</th>\n      <td>Lost Woods: Lost WoodsI didn't really understa...</td>\n      <td>1</td>\n    </tr>\n    <tr>\n      <th>3</th>\n      <td>Renaissance -12, Women's brown suead shoes: Re...</td>\n      <td>1</td>\n    </tr>\n    <tr>\n      <th>4</th>\n      <td>Best Novel I've Read This Year: Intrigued by t...</td>\n      <td>0</td>\n    </tr>\n  </tbody>\n</table>\n</div>"
     },
     "execution_count": 8,
     "metadata": {},
     "output_type": "execute_result"
    }
   ],
   "source": [
    "import pandas as pd\n",
    "import pickle\n",
    "import numpy as np\n",
    "from collections import Counter\n",
    "from typing import List, Tuple, Dict\n",
    "from nltk.corpus import stopwords\n",
    "import re\n",
    "import matplotlib.pyplot as plt\n",
    "\n",
    "p = r'../data/Amazon-reviews/train.ft.txt'\n",
    "with open(p, 'r', encoding='utf8') as f:\n",
    "    train_data = f.readlines()\n",
    "\n",
    "df_train = []\n",
    "for line in train_data:\n",
    "    temp = []\n",
    "    if '__label__2 ' in line:\n",
    "        review = line.split('__label__2 ')[1].strip()\n",
    "        temp = [review, 0]\n",
    "\n",
    "    elif '__label__1 ' in line:\n",
    "        review = line.split('__label__1 ')[1].strip()\n",
    "        temp = [review, 1]\n",
    "    else:\n",
    "        print(f'error {f}')\n",
    "    df_train.append(temp)\n",
    "\n",
    "df_train = pd.DataFrame(df_train, columns=['review', 'sentiment'])\n",
    "print(df_train.shape, df_train['sentiment'].value_counts())\n",
    "df_train.to_csv(r'../data/Amazon_review-train.csv', index=False)\n",
    "\n",
    "df_train = df_train.sample(frac=1, random_state=1).reset_index(drop=True)\n",
    "df_train = df_train.iloc[:100000]\n",
    "print(df_train.shape, df_train['sentiment'].value_counts())\n",
    "df_train.to_csv(r'../data/Amazon_review-sample-train.csv', index=False)\n",
    "\n",
    "df_train.head()"
   ]
  },
  {
   "cell_type": "code",
   "execution_count": 9,
   "outputs": [
    {
     "name": "stdout",
     "output_type": "stream",
     "text": [
      "(400000, 2) 0    200000\n",
      "1    200000\n",
      "Name: sentiment, dtype: int64\n",
      "(80000, 2) 1    40163\n",
      "0    39837\n",
      "Name: sentiment, dtype: int64\n"
     ]
    },
    {
     "data": {
      "text/plain": "                                              review  sentiment\n0  Best Movie I've Seen in Years!: Okay, it was e...          0\n1  Jai Uttal's voice ruins it for me.: I really e...          1\n2  Disappointing: As a great fan of Elizabeth Geo...          1\n3  Highway to Heaven for Vespa-holics!!: As a con...          0\n4  Caveat emptor: They don't tell you that the ga...          1",
      "text/html": "<div>\n<style scoped>\n    .dataframe tbody tr th:only-of-type {\n        vertical-align: middle;\n    }\n\n    .dataframe tbody tr th {\n        vertical-align: top;\n    }\n\n    .dataframe thead th {\n        text-align: right;\n    }\n</style>\n<table border=\"1\" class=\"dataframe\">\n  <thead>\n    <tr style=\"text-align: right;\">\n      <th></th>\n      <th>review</th>\n      <th>sentiment</th>\n    </tr>\n  </thead>\n  <tbody>\n    <tr>\n      <th>0</th>\n      <td>Best Movie I've Seen in Years!: Okay, it was e...</td>\n      <td>0</td>\n    </tr>\n    <tr>\n      <th>1</th>\n      <td>Jai Uttal's voice ruins it for me.: I really e...</td>\n      <td>1</td>\n    </tr>\n    <tr>\n      <th>2</th>\n      <td>Disappointing: As a great fan of Elizabeth Geo...</td>\n      <td>1</td>\n    </tr>\n    <tr>\n      <th>3</th>\n      <td>Highway to Heaven for Vespa-holics!!: As a con...</td>\n      <td>0</td>\n    </tr>\n    <tr>\n      <th>4</th>\n      <td>Caveat emptor: They don't tell you that the ga...</td>\n      <td>1</td>\n    </tr>\n  </tbody>\n</table>\n</div>"
     },
     "execution_count": 9,
     "metadata": {},
     "output_type": "execute_result"
    }
   ],
   "source": [
    "p = r'../data/Amazon-reviews/test.ft.txt'\n",
    "with open(p, 'r', encoding='utf8') as f:\n",
    "    test_data = f.readlines()\n",
    "\n",
    "df_test = []\n",
    "for line in test_data:\n",
    "    temp = []\n",
    "    if '__label__2 ' in line:\n",
    "        review = line.split('__label__2 ')[1].strip()\n",
    "        temp = [review, 0]\n",
    "\n",
    "    elif '__label__1 ' in line:\n",
    "        review = line.split('__label__1 ')[1].strip()\n",
    "        temp = [review, 1]\n",
    "    else:\n",
    "        print(f'error {f}')\n",
    "    df_test.append(temp)\n",
    "\n",
    "df_test = pd.DataFrame(df_test, columns=['review', 'sentiment'])\n",
    "print(df_test.shape, df_test['sentiment'].value_counts())\n",
    "df_test.to_csv(r'../data/Amazon_review-test.csv', index=False)\n",
    "\n",
    "df_test = df_test.sample(frac=1, random_state=1).reset_index(drop=True)\n",
    "df_test = df_test.iloc[:80000]\n",
    "print(df_test.shape, df_test['sentiment'].value_counts())\n",
    "df_test.to_csv(r'../data/Amazon_review-sample-test.csv', index=False)\n",
    "\n",
    "df_test.head()"
   ],
   "metadata": {
    "collapsed": false
   }
  },
  {
   "cell_type": "code",
   "execution_count": 10,
   "outputs": [
    {
     "name": "stdout",
     "output_type": "stream",
     "text": [
      "create vocab\n",
      "sorting\n",
      "tokenizing\n"
     ]
    }
   ],
   "source": [
    "def preprocess_string(s):\n",
    "    # Remove all non-word characters (everything except numbers and letters)\n",
    "    s = re.sub(r\"[^\\w\\s]\", '', s)\n",
    "    # Replace all runs of whitespaces with no space\n",
    "    s = re.sub(r\"\\s+\", '', s)\n",
    "    # replace digits with no space\n",
    "    s = re.sub(r\"\\d\", '', s)\n",
    "\n",
    "    return s\n",
    "\n",
    "def tokenize(x_train,y_train,x_val,y_val, vocab=19998):\n",
    "    word_list = []\n",
    "\n",
    "    print(\"create vocab\")\n",
    "    stop_words = set(stopwords.words('english'))\n",
    "    for sent in x_train:\n",
    "        for word in sent.lower().split():\n",
    "            word = preprocess_string(word)\n",
    "            if word not in stop_words and word != '':\n",
    "                word_list.append(word)\n",
    "\n",
    "    print(\"sorting\")\n",
    "    corpus = Counter(word_list)\n",
    "    # sorting on the basis of most common words\n",
    "    corpus_ = sorted(corpus,key=corpus.get,reverse=True)[:vocab]\n",
    "    # creating a dict\n",
    "    onehot_dict = {w:i+1 for i, w in enumerate(corpus_)}\n",
    "\n",
    "    print('tokenizing')\n",
    "    # tokenize\n",
    "    final_list_train,final_list_test = [],[]\n",
    "    for sent in x_train:\n",
    "            final_list_train.append([onehot_dict[preprocess_string(word)] for word in sent.lower().split() if preprocess_string(word) in onehot_dict.keys()])\n",
    "    for sent in x_val:\n",
    "            final_list_test.append([onehot_dict[preprocess_string(word)] for word in sent.lower().split() if preprocess_string(word) in onehot_dict.keys()])\n",
    "\n",
    "    encoded_train = y_train\n",
    "    encoded_test = y_val\n",
    "\n",
    "    return final_list_train, encoded_train, final_list_test, encoded_test,onehot_dict\n",
    "\n",
    "x_train,y_train,x_test,y_test,vocab = tokenize(x_train=df_train['review'],\n",
    "                                               y_train=df_train['sentiment'],\n",
    "                                               x_val=df_test['review'],\n",
    "                                               y_val=df_test['sentiment'])"
   ],
   "metadata": {
    "collapsed": false
   }
  },
  {
   "cell_type": "code",
   "execution_count": 11,
   "outputs": [
    {
     "data": {
      "text/plain": "<Figure size 640x480 with 1 Axes>",
      "image/png": "[encoded data removed]"
     },
     "metadata": {},
     "output_type": "display_data"
    },
    {
     "data": {
      "text/plain": "count    100000.00000\nmean         37.27407\nstd          20.15021\nmin           2.00000\n25%          20.00000\n50%          33.00000\n75%          51.00000\nmax         111.00000\ndtype: float64"
     },
     "execution_count": 11,
     "metadata": {},
     "output_type": "execute_result"
    }
   ],
   "source": [
    "rev_len = [len(i) for i in x_train]\n",
    "pd.Series(rev_len).hist()\n",
    "plt.show()\n",
    "pd.Series(rev_len).describe()"
   ],
   "metadata": {
    "collapsed": false
   }
  },
  {
   "cell_type": "code",
   "execution_count": 12,
   "outputs": [
    {
     "name": "stdout",
     "output_type": "stream",
     "text": [
      "100000 100000\n",
      "80000 80000\n",
      "100\n"
     ]
    }
   ],
   "source": [
    "max_len = 100\n",
    "\n",
    "def padding_(sentences, seq_len):\n",
    "    features = np.zeros((len(sentences), seq_len),dtype=int)\n",
    "    for ii, review in enumerate(sentences):\n",
    "        if len(review) != 0:\n",
    "            features[ii, -len(review):] = np.array(review)[:seq_len]\n",
    "    return features\n",
    "\n",
    "x_train_pad = padding_(x_train,max_len)\n",
    "x_test_pad = padding_(x_test,max_len)\n",
    "print(len(x_train_pad), len(y_train))\n",
    "print(len(x_test_pad), len(y_test))\n",
    "print(len(x_train_pad[0]))"
   ],
   "metadata": {
    "collapsed": false
   }
  },
  {
   "cell_type": "code",
   "execution_count": 13,
   "outputs": [
    {
     "name": "stdout",
     "output_type": "stream",
     "text": [
      "(100000, 100)\n",
      "(100000,)\n",
      "now dumping pickle\n"
     ]
    }
   ],
   "source": [
    "train_tokenized_idx = np.array(x_train_pad)\n",
    "train_labels_np = np.array(y_train)\n",
    "train_data = (train_tokenized_idx, train_labels_np)\n",
    "print(train_tokenized_idx.shape)\n",
    "print(train_labels_np.shape)\n",
    "\n",
    "print('now dumping pickle')\n",
    "with open(file='Amazon_review-sample-train.pkl', mode='wb') as f:\n",
    "    pickle.dump(train_data, f)"
   ],
   "metadata": {
    "collapsed": false
   }
  },
  {
   "cell_type": "code",
   "execution_count": 14,
   "outputs": [
    {
     "name": "stdout",
     "output_type": "stream",
     "text": [
      "(80000, 100)\n",
      "(80000,)\n",
      "now dumping test pickle\n"
     ]
    }
   ],
   "source": [
    "test_tokenized_idx = np.array(x_test_pad)\n",
    "test_labels_np = np.array(y_test)\n",
    "test_data = (test_tokenized_idx, test_labels_np)\n",
    "print(test_tokenized_idx.shape)\n",
    "print(test_labels_np.shape)\n",
    "\n",
    "print('now dumping test pickle')\n",
    "# with open(file='ag_test.pkl', mode='wb') as f:\n",
    "with open(file='Amazon_review-sample-test.pkl', mode='wb') as f:\n",
    "    pickle.dump(test_data, f)"
   ],
   "metadata": {
    "collapsed": false
   }
  }
 ],
 "metadata": {
  "kernelspec": {
   "display_name": "Python 3",
   "language": "python",
   "name": "python3"
  },
  "language_info": {
   "codemirror_mode": {
    "name": "ipython",
    "version": 2
   },
   "file_extension": ".py",
   "mimetype": "text/x-python",
   "name": "python",
   "nbconvert_exporter": "python",
   "pygments_lexer": "ipython2",
   "version": "2.7.6"
  }
 },
 "nbformat": 4,
 "nbformat_minor": 0
}
