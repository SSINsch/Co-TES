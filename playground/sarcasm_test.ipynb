{
 "cells": [
  {
   "cell_type": "code",
   "execution_count": 4,
   "metadata": {
    "collapsed": true
   },
   "outputs": [
    {
     "name": "stdout",
     "output_type": "stream",
     "text": [
      "0    14985\n",
      "1    13634\n",
      "Name: is_sarcastic, dtype: int64\n",
      "(20033, 3)\n",
      "0    10482\n",
      "1     9551\n",
      "Name: is_sarcastic, dtype: int64\n",
      "(8586, 3)\n",
      "0    4503\n",
      "1    4083\n",
      "Name: is_sarcastic, dtype: int64\n"
     ]
    },
    {
     "data": {
      "text/plain": "   is_sarcastic                                           headline  \\\n0             1  frantic, last-second study finds old-fashioned...   \n1             0  the 3 (unlikely) artists i'm obsessing over th...   \n2             1            madcap romp escalates into zany hijinks   \n3             0                     the 7 stages of potty training   \n4             1                                    hubris rewarded   \n\n                                        article_link  \n0  https://www.theonion.com/frantic-last-second-s...  \n1  https://www.huffingtonpost.com/entry/new-music...  \n2  https://local.theonion.com/madcap-romp-escalat...  \n3  https://www.huffingtonpost.com/entry/the-7-sta...  \n4  https://www.theonion.com/hubris-rewarded-18195...  ",
      "text/html": "<div>\n<style scoped>\n    .dataframe tbody tr th:only-of-type {\n        vertical-align: middle;\n    }\n\n    .dataframe tbody tr th {\n        vertical-align: top;\n    }\n\n    .dataframe thead th {\n        text-align: right;\n    }\n</style>\n<table border=\"1\" class=\"dataframe\">\n  <thead>\n    <tr style=\"text-align: right;\">\n      <th></th>\n      <th>is_sarcastic</th>\n      <th>headline</th>\n      <th>article_link</th>\n    </tr>\n  </thead>\n  <tbody>\n    <tr>\n      <th>0</th>\n      <td>1</td>\n      <td>frantic, last-second study finds old-fashioned...</td>\n      <td>https://www.theonion.com/frantic-last-second-s...</td>\n    </tr>\n    <tr>\n      <th>1</th>\n      <td>0</td>\n      <td>the 3 (unlikely) artists i'm obsessing over th...</td>\n      <td>https://www.huffingtonpost.com/entry/new-music...</td>\n    </tr>\n    <tr>\n      <th>2</th>\n      <td>1</td>\n      <td>madcap romp escalates into zany hijinks</td>\n      <td>https://local.theonion.com/madcap-romp-escalat...</td>\n    </tr>\n    <tr>\n      <th>3</th>\n      <td>0</td>\n      <td>the 7 stages of potty training</td>\n      <td>https://www.huffingtonpost.com/entry/the-7-sta...</td>\n    </tr>\n    <tr>\n      <th>4</th>\n      <td>1</td>\n      <td>hubris rewarded</td>\n      <td>https://www.theonion.com/hubris-rewarded-18195...</td>\n    </tr>\n  </tbody>\n</table>\n</div>"
     },
     "execution_count": 4,
     "metadata": {},
     "output_type": "execute_result"
    }
   ],
   "source": [
    "import pandas as pd\n",
    "import pickle\n",
    "import numpy as np\n",
    "\n",
    "p = r'../data/Sarcasm_Headlines_Dataset_v2.json'\n",
    "df = pd.read_json(p, lines=True)\n",
    "print(df['is_sarcastic'].value_counts())\n",
    "\n",
    "# 5만개를 shuffle해서 70%는 train으로\n",
    "ratio = 0.7\n",
    "df = df.sample(frac=1, random_state=1).reset_index(drop=True)\n",
    "df_train = df.iloc[:int(ratio * len(df))]\n",
    "print(df_train.shape)\n",
    "print(df_train['is_sarcastic'].value_counts())\n",
    "\n",
    "df_test = df.iloc[int(ratio * len(df)):]\n",
    "print(df_test.shape)\n",
    "print(df_test['is_sarcastic'].value_counts())\n",
    "\n",
    "df_train.to_csv(r'../data/sarcasm-train.csv', index=False)\n",
    "df_test.to_csv(r'../data/sarcasm-test.csv', index=False)\n",
    "df_train.head()"
   ]
  },
  {
   "cell_type": "code",
   "execution_count": 5,
   "outputs": [
    {
     "name": "stdout",
     "output_type": "stream",
     "text": [
      "create vocab\n",
      "sorting\n",
      "tokenizing\n"
     ]
    }
   ],
   "source": [
    "from collections import Counter\n",
    "from nltk.corpus import stopwords\n",
    "import re\n",
    "\n",
    "\n",
    "def preprocess_string(s):\n",
    "    # Remove all non-word characters (everything except numbers and letters)\n",
    "    s = re.sub(r\"[^\\w\\s]\", '', s)\n",
    "    # Replace all runs of whitespaces with no space\n",
    "    s = re.sub(r\"\\s+\", '', s)\n",
    "    # replace digits with no space\n",
    "    s = re.sub(r\"\\d\", '', s)\n",
    "\n",
    "    return s\n",
    "\n",
    "def tokenize(x_train,y_train,x_val,y_val, vocab=19998):\n",
    "    word_list = []\n",
    "\n",
    "    print(\"create vocab\")\n",
    "    stop_words = set(stopwords.words('english'))\n",
    "    for sent in x_train:\n",
    "        sent = sent.replace(r\"<br />\",' ')\n",
    "        for word in sent.lower().split():\n",
    "            word = preprocess_string(word)\n",
    "            if word not in stop_words and word != '':\n",
    "                word_list.append(word)\n",
    "\n",
    "    print(\"sorting\")\n",
    "    corpus = Counter(word_list)\n",
    "    # sorting on the basis of most common words\n",
    "    corpus_ = sorted(corpus,key=corpus.get,reverse=True)[:vocab]\n",
    "    # creating a dict\n",
    "    onehot_dict = {w:i+1 for i, w in enumerate(corpus_)}\n",
    "\n",
    "    print('tokenizing')\n",
    "    # tokenize\n",
    "    final_list_train,final_list_test = [],[]\n",
    "    for sent in x_train:\n",
    "            final_list_train.append([onehot_dict[preprocess_string(word)] for word in sent.lower().split() if preprocess_string(word) in onehot_dict.keys()])\n",
    "    for sent in x_val:\n",
    "            final_list_test.append([onehot_dict[preprocess_string(word)] for word in sent.lower().split() if preprocess_string(word) in onehot_dict.keys()])\n",
    "\n",
    "    encoded_train = y_train\n",
    "    encoded_test = y_val\n",
    "\n",
    "    return final_list_train, encoded_train, final_list_test, encoded_test,onehot_dict\n",
    "\n",
    "x_train,y_train,x_test,y_test,vocab = tokenize(x_train=df_train['headline'],\n",
    "                                               y_train=df_train['is_sarcastic'],\n",
    "                                               x_val=df_test['headline'],\n",
    "                                               y_val=df_test['is_sarcastic'])"
   ],
   "metadata": {
    "collapsed": false
   }
  },
  {
   "cell_type": "code",
   "execution_count": 6,
   "outputs": [
    {
     "data": {
      "text/plain": "<Figure size 640x480 with 1 Axes>",
      "image/png": "[encoded data removed]"
     },
     "metadata": {},
     "output_type": "display_data"
    },
    {
     "data": {
      "text/plain": "count    20033.000000\nmean         6.940848\nstd          2.465364\nmin          0.000000\n25%          5.000000\n50%          7.000000\n75%          8.000000\nmax        106.000000\ndtype: float64"
     },
     "execution_count": 6,
     "metadata": {},
     "output_type": "execute_result"
    }
   ],
   "source": [
    "import matplotlib.pyplot as plt\n",
    "\n",
    "rev_len = [len(i) for i in x_train]\n",
    "pd.Series(rev_len).hist()\n",
    "plt.show()\n",
    "pd.Series(rev_len).describe()"
   ],
   "metadata": {
    "collapsed": false
   }
  },
  {
   "cell_type": "code",
   "execution_count": 7,
   "outputs": [
    {
     "name": "stdout",
     "output_type": "stream",
     "text": [
      "20033 20033\n",
      "8586 8586\n",
      "20\n"
     ]
    }
   ],
   "source": [
    "max_len = 20\n",
    "\n",
    "def padding_(sentences, seq_len):\n",
    "    features = np.zeros((len(sentences), seq_len),dtype=int)\n",
    "    for ii, review in enumerate(sentences):\n",
    "        if len(review) != 0:\n",
    "            features[ii, -len(review):] = np.array(review)[:seq_len]\n",
    "    return features\n",
    "\n",
    "x_train_pad = padding_(x_train,max_len)\n",
    "x_test_pad = padding_(x_test,max_len)\n",
    "print(len(x_train_pad), len(y_train))\n",
    "print(len(x_test_pad), len(y_test))\n",
    "print(len(x_train_pad[0]))"
   ],
   "metadata": {
    "collapsed": false
   }
  },
  {
   "cell_type": "code",
   "execution_count": 8,
   "outputs": [
    {
     "name": "stdout",
     "output_type": "stream",
     "text": [
      "(20033, 20)\n",
      "(20033,)\n",
      "now dumping pickle\n"
     ]
    }
   ],
   "source": [
    "train_tokenized_idx = np.array(x_train_pad)\n",
    "train_labels_np = np.array(y_train)\n",
    "train_data = (train_tokenized_idx, train_labels_np)\n",
    "print(train_tokenized_idx.shape)\n",
    "print(train_labels_np.shape)\n",
    "\n",
    "print('now dumping pickle')\n",
    "with open(file='sarcasm-train.pkl', mode='wb') as f:\n",
    "    pickle.dump(train_data, f)"
   ],
   "metadata": {
    "collapsed": false
   }
  },
  {
   "cell_type": "code",
   "execution_count": 9,
   "outputs": [
    {
     "name": "stdout",
     "output_type": "stream",
     "text": [
      "(8586, 20)\n",
      "(8586,)\n",
      "now dumping test pickle\n"
     ]
    }
   ],
   "source": [
    "test_tokenized_idx = np.array(x_test_pad)\n",
    "test_labels_np = np.array(y_test)\n",
    "test_data = (test_tokenized_idx, test_labels_np)\n",
    "print(test_tokenized_idx.shape)\n",
    "print(test_labels_np.shape)\n",
    "\n",
    "print('now dumping test pickle')\n",
    "# with open(file='ag_test.pkl', mode='wb') as f:\n",
    "with open(file='sarcasm-test.pkl', mode='wb') as f:\n",
    "    pickle.dump(test_data, f)"
   ],
   "metadata": {
    "collapsed": false
   }
  },
  {
   "cell_type": "code",
   "execution_count": null,
   "outputs": [],
   "source": [],
   "metadata": {
    "collapsed": false
   }
  }
 ],
 "metadata": {
  "kernelspec": {
   "display_name": "Python 3",
   "language": "python",
   "name": "python3"
  },
  "language_info": {
   "codemirror_mode": {
    "name": "ipython",
    "version": 2
   },
   "file_extension": ".py",
   "mimetype": "text/x-python",
   "name": "python",
   "nbconvert_exporter": "python",
   "pygments_lexer": "ipython2",
   "version": "2.7.6"
  }
 },
 "nbformat": 4,
 "nbformat_minor": 0
}
