{
 "cells": [
  {
   "cell_type": "code",
   "execution_count": 21,
   "metadata": {
    "collapsed": true
   },
   "outputs": [
    {
     "name": "stdout",
     "output_type": "stream",
     "text": [
      "5    12540\n",
      "4     4908\n",
      "3     2823\n",
      "2     1549\n",
      "1      821\n",
      "Name: Rating, dtype: int64\n",
      "(15848, 2)\n",
      "4    8822\n",
      "3    3395\n",
      "2    1968\n",
      "1    1082\n",
      "0     581\n",
      "Name: Rating, dtype: int64\n",
      "(6793, 2)\n",
      "Series([], Name: Rating, dtype: int64)\n"
     ]
    },
    {
     "data": {
      "text/plain": "                                         Review Text  Rating\n0  I'm taking this to hawaii for the holidays, i'...       4\n1  I purchased this sweater in the blue and i lov...       3\n2  Absolutely in love with this top. the embroide...       4\n3  In the midst of the end-of-winter doldrums, i ...       3\n4  According to the label, this dress can be hand...       1",
      "text/html": "<div>\n<style scoped>\n    .dataframe tbody tr th:only-of-type {\n        vertical-align: middle;\n    }\n\n    .dataframe tbody tr th {\n        vertical-align: top;\n    }\n\n    .dataframe thead th {\n        text-align: right;\n    }\n</style>\n<table border=\"1\" class=\"dataframe\">\n  <thead>\n    <tr style=\"text-align: right;\">\n      <th></th>\n      <th>Review Text</th>\n      <th>Rating</th>\n    </tr>\n  </thead>\n  <tbody>\n    <tr>\n      <th>0</th>\n      <td>I'm taking this to hawaii for the holidays, i'...</td>\n      <td>4</td>\n    </tr>\n    <tr>\n      <th>1</th>\n      <td>I purchased this sweater in the blue and i lov...</td>\n      <td>3</td>\n    </tr>\n    <tr>\n      <th>2</th>\n      <td>Absolutely in love with this top. the embroide...</td>\n      <td>4</td>\n    </tr>\n    <tr>\n      <th>3</th>\n      <td>In the midst of the end-of-winter doldrums, i ...</td>\n      <td>3</td>\n    </tr>\n    <tr>\n      <th>4</th>\n      <td>According to the label, this dress can be hand...</td>\n      <td>1</td>\n    </tr>\n  </tbody>\n</table>\n</div>"
     },
     "execution_count": 21,
     "metadata": {},
     "output_type": "execute_result"
    }
   ],
   "source": [
    "import pandas as pd\n",
    "import pickle\n",
    "import numpy as np\n",
    "\n",
    "p = r'../data/Womens-Clothing-E-Commerce-Reviews.csv'\n",
    "df = pd.read_csv(p, encoding='ISO-8859-1')\n",
    "df = df.dropna(subset=['Review Text'])\n",
    "print(df['Rating'].value_counts())\n",
    "\n",
    "# 5만개를 shuffle해서 70%는 train으로\n",
    "ratio = 0.7\n",
    "df = df.sample(frac=1, random_state=1).reset_index(drop=True)\n",
    "df_train = df.iloc[:int(ratio * len(df))]\n",
    "df_train = df_train[['Review Text', 'Rating']]\n",
    "df_train['Rating'] = df_train['Rating'] - 1\n",
    "print(df_train.shape)\n",
    "print(df_train['Rating'].value_counts())\n",
    "\n",
    "df_test = df.iloc[int(ratio * len(df)):]\n",
    "df_test = df_test[['Review Text', 'Rating']]\n",
    "df_test['Rating'] = df_train['Rating'] - 1\n",
    "print(df_test.shape)\n",
    "print(df_test['Rating'].value_counts())\n",
    "\n",
    "df_train.to_csv(r'../data/w_clothing-train.csv', index=False)\n",
    "df_test.to_csv(r'../data/w_clothing-test.csv', index=False)\n",
    "df_train.head()"
   ]
  },
  {
   "cell_type": "code",
   "execution_count": 22,
   "outputs": [
    {
     "name": "stdout",
     "output_type": "stream",
     "text": [
      "create vocab\n",
      "sorting\n",
      "tokenizing\n"
     ]
    }
   ],
   "source": [
    "from collections import Counter\n",
    "from nltk.corpus import stopwords\n",
    "import re\n",
    "\n",
    "\n",
    "def preprocess_string(s):\n",
    "    # Remove all non-word characters (everything except numbers and letters)\n",
    "    s = re.sub(r\"[^\\w\\s]\", '', s)\n",
    "    # Replace all runs of whitespaces with no space\n",
    "    s = re.sub(r\"\\s+\", '', s)\n",
    "    # replace digits with no space\n",
    "    s = re.sub(r\"\\d\", '', s)\n",
    "\n",
    "    return s\n",
    "\n",
    "def tokenize(x_train,y_train,x_val,y_val, vocab=19998):\n",
    "    word_list = []\n",
    "\n",
    "    print(\"create vocab\")\n",
    "    stop_words = set(stopwords.words('english'))\n",
    "    for sent in x_train:\n",
    "        sent = sent.replace(r\"<br />\",' ')\n",
    "        for word in sent.lower().split():\n",
    "            word = preprocess_string(word)\n",
    "            if word not in stop_words and word != '':\n",
    "                word_list.append(word)\n",
    "\n",
    "    print(\"sorting\")\n",
    "    corpus = Counter(word_list)\n",
    "    # sorting on the basis of most common words\n",
    "    corpus_ = sorted(corpus,key=corpus.get,reverse=True)[:vocab]\n",
    "    # creating a dict\n",
    "    onehot_dict = {w:i+1 for i, w in enumerate(corpus_)}\n",
    "\n",
    "    print('tokenizing')\n",
    "    # tokenize\n",
    "    final_list_train,final_list_test = [],[]\n",
    "    for sent in x_train:\n",
    "            final_list_train.append([onehot_dict[preprocess_string(word)] for word in sent.lower().split() if preprocess_string(word) in onehot_dict.keys()])\n",
    "    for sent in x_val:\n",
    "            final_list_test.append([onehot_dict[preprocess_string(word)] for word in sent.lower().split() if preprocess_string(word) in onehot_dict.keys()])\n",
    "\n",
    "    encoded_train = y_train\n",
    "    encoded_test = y_val\n",
    "\n",
    "    return final_list_train, encoded_train, final_list_test, encoded_test,onehot_dict\n",
    "\n",
    "x_train,y_train,x_test,y_test,vocab = tokenize(x_train=df_train['Review Text'],\n",
    "                                               y_train=df_train['Rating'],\n",
    "                                               x_val=df_test['Review Text'],\n",
    "                                               y_val=df_test['Rating'])"
   ],
   "metadata": {
    "collapsed": false
   }
  },
  {
   "cell_type": "code",
   "execution_count": 23,
   "outputs": [
    {
     "data": {
      "text/plain": "<Figure size 640x480 with 1 Axes>",
      "image/png": "[encoded data removed]"
     },
     "metadata": {},
     "output_type": "display_data"
    },
    {
     "data": {
      "text/plain": "count    15848.000000\nmean        28.856007\nstd         13.278256\nmin          2.000000\n25%         18.000000\n50%         28.000000\n75%         41.000000\nmax         58.000000\ndtype: float64"
     },
     "execution_count": 23,
     "metadata": {},
     "output_type": "execute_result"
    }
   ],
   "source": [
    "import matplotlib.pyplot as plt\n",
    "\n",
    "rev_len = [len(i) for i in x_train]\n",
    "pd.Series(rev_len).hist()\n",
    "plt.show()\n",
    "pd.Series(rev_len).describe()"
   ],
   "metadata": {
    "collapsed": false
   }
  },
  {
   "cell_type": "code",
   "execution_count": 24,
   "outputs": [
    {
     "name": "stdout",
     "output_type": "stream",
     "text": [
      "15848 15848\n",
      "6793 6793\n",
      "50\n"
     ]
    }
   ],
   "source": [
    "max_len = 50\n",
    "\n",
    "def padding_(sentences, seq_len):\n",
    "    features = np.zeros((len(sentences), seq_len),dtype=int)\n",
    "    for ii, review in enumerate(sentences):\n",
    "        if len(review) != 0:\n",
    "            features[ii, -len(review):] = np.array(review)[:seq_len]\n",
    "    return features\n",
    "\n",
    "x_train_pad = padding_(x_train,max_len)\n",
    "x_test_pad = padding_(x_test,max_len)\n",
    "print(len(x_train_pad), len(y_train))\n",
    "print(len(x_test_pad), len(y_test))\n",
    "print(len(x_train_pad[0]))"
   ],
   "metadata": {
    "collapsed": false
   }
  },
  {
   "cell_type": "code",
   "execution_count": 25,
   "outputs": [
    {
     "name": "stdout",
     "output_type": "stream",
     "text": [
      "(15848, 50)\n",
      "(15848,)\n",
      "now dumping pickle\n"
     ]
    }
   ],
   "source": [
    "train_tokenized_idx = np.array(x_train_pad)\n",
    "train_labels_np = np.array(y_train)\n",
    "train_data = (train_tokenized_idx, train_labels_np)\n",
    "print(train_tokenized_idx.shape)\n",
    "print(train_labels_np.shape)\n",
    "\n",
    "print('now dumping pickle')\n",
    "with open(file='w_clothing-train.pkl', mode='wb') as f:\n",
    "    pickle.dump(train_data, f)"
   ],
   "metadata": {
    "collapsed": false
   }
  },
  {
   "cell_type": "code",
   "execution_count": 26,
   "outputs": [
    {
     "name": "stdout",
     "output_type": "stream",
     "text": [
      "(6793, 50)\n",
      "(6793,)\n",
      "now dumping test pickle\n"
     ]
    }
   ],
   "source": [
    "test_tokenized_idx = np.array(x_test_pad)\n",
    "test_labels_np = np.array(y_test)\n",
    "test_data = (test_tokenized_idx, test_labels_np)\n",
    "print(test_tokenized_idx.shape)\n",
    "print(test_labels_np.shape)\n",
    "\n",
    "print('now dumping test pickle')\n",
    "# with open(file='ag_test.pkl', mode='wb') as f:\n",
    "with open(file='w_clothing-test.pkl', mode='wb') as f:\n",
    "    pickle.dump(test_data, f)"
   ],
   "metadata": {
    "collapsed": false
   }
  }
 ],
 "metadata": {
  "kernelspec": {
   "display_name": "Python 3",
   "language": "python",
   "name": "python3"
  },
  "language_info": {
   "codemirror_mode": {
    "name": "ipython",
    "version": 2
   },
   "file_extension": ".py",
   "mimetype": "text/x-python",
   "name": "python",
   "nbconvert_exporter": "python",
   "pygments_lexer": "ipython2",
   "version": "2.7.6"
  }
 },
 "nbformat": 4,
 "nbformat_minor": 0
}
