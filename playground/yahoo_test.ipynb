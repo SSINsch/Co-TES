{
 "cells": [
  {
   "cell_type": "code",
   "execution_count": 30,
   "metadata": {
    "collapsed": true
   },
   "outputs": [
    {
     "name": "stdout",
     "output_type": "stream",
     "text": [
      "(1400000, 5)\n",
      "4    140000\n",
      "5    140000\n",
      "2    140000\n",
      "6    140000\n",
      "1    140000\n",
      "7    140000\n",
      "3    140000\n",
      "8    140000\n",
      "9    140000\n",
      "0    140000\n",
      "Name: class, dtype: int64\n",
      "(140000, 5)\n",
      "6    14170\n",
      "5    14085\n",
      "0    14068\n",
      "3    14057\n",
      "8    14043\n",
      "9    14019\n",
      "7    13964\n",
      "4    13928\n",
      "2    13850\n",
      "1    13816\n",
      "Name: class, dtype: int64\n",
      "(60000, 5)\n",
      "8    6000\n",
      "1    6000\n",
      "3    6000\n",
      "2    6000\n",
      "4    6000\n",
      "7    6000\n",
      "6    6000\n",
      "9    6000\n",
      "0    6000\n",
      "5    6000\n",
      "Name: class, dtype: int64\n"
     ]
    },
    {
     "data": {
      "text/plain": "   class                                              title  \\\n0      8                       What makes friendship click?   \n1      1                      Why does Zebras have stripes?   \n2      3           What did the itsy bitsy sipder climb up?   \n3      3  What is the difference between a Bachelors and...   \n4      2                              Why do women get PMS?   \n\n                                            contents  \\\n0                     How does the spark keep going?   \n1  What is the purpose or those stripes? Who do t...   \n2                                                      \n3                                                      \n4                                                      \n\n                                              answer  \\\n0  good communication is what does it.  Can you m...   \n1  this provides camouflage - predator vision is ...   \n2                                         waterspout   \n3  One difference between a Bachelors and a Maste...   \n4  Premenstrual syndrome (PMS) is a group of symp...   \n\n                                                text  \n0  What makes friendship click? How does the spar...  \n1  Why does Zebras have stripes? What is the purp...  \n2  What did the itsy bitsy sipder climb up?   wat...  \n3  What is the difference between a Bachelors and...  \n4  Why do women get PMS?   Premenstrual syndrome ...  ",
      "text/html": "<div>\n<style scoped>\n    .dataframe tbody tr th:only-of-type {\n        vertical-align: middle;\n    }\n\n    .dataframe tbody tr th {\n        vertical-align: top;\n    }\n\n    .dataframe thead th {\n        text-align: right;\n    }\n</style>\n<table border=\"1\" class=\"dataframe\">\n  <thead>\n    <tr style=\"text-align: right;\">\n      <th></th>\n      <th>class</th>\n      <th>title</th>\n      <th>contents</th>\n      <th>answer</th>\n      <th>text</th>\n    </tr>\n  </thead>\n  <tbody>\n    <tr>\n      <th>0</th>\n      <td>8</td>\n      <td>What makes friendship click?</td>\n      <td>How does the spark keep going?</td>\n      <td>good communication is what does it.  Can you m...</td>\n      <td>What makes friendship click? How does the spar...</td>\n    </tr>\n    <tr>\n      <th>1</th>\n      <td>1</td>\n      <td>Why does Zebras have stripes?</td>\n      <td>What is the purpose or those stripes? Who do t...</td>\n      <td>this provides camouflage - predator vision is ...</td>\n      <td>Why does Zebras have stripes? What is the purp...</td>\n    </tr>\n    <tr>\n      <th>2</th>\n      <td>3</td>\n      <td>What did the itsy bitsy sipder climb up?</td>\n      <td></td>\n      <td>waterspout</td>\n      <td>What did the itsy bitsy sipder climb up?   wat...</td>\n    </tr>\n    <tr>\n      <th>3</th>\n      <td>3</td>\n      <td>What is the difference between a Bachelors and...</td>\n      <td></td>\n      <td>One difference between a Bachelors and a Maste...</td>\n      <td>What is the difference between a Bachelors and...</td>\n    </tr>\n    <tr>\n      <th>4</th>\n      <td>2</td>\n      <td>Why do women get PMS?</td>\n      <td></td>\n      <td>Premenstrual syndrome (PMS) is a group of symp...</td>\n      <td>Why do women get PMS?   Premenstrual syndrome ...</td>\n    </tr>\n  </tbody>\n</table>\n</div>"
     },
     "execution_count": 30,
     "metadata": {},
     "output_type": "execute_result"
    }
   ],
   "source": [
    "import pandas as pd\n",
    "import pickle\n",
    "import numpy as np\n",
    "\n",
    "p = r'../data/yahoo/train.csv'\n",
    "df = pd.read_csv(p, header=None)\n",
    "df.columns = ['class', 'title', 'contents', 'answer']\n",
    "df = df.fillna(' ')\n",
    "df['class'] = df['class'] - 1\n",
    "df['text'] = df['title'] + ' ' + df['contents'] + ' ' + df['answer']\n",
    "print(df.shape)\n",
    "print(df['class'].value_counts())\n",
    "ratio = 0.1\n",
    "df_train = df.sample(frac=ratio, random_state=1).reset_index(drop=True)\n",
    "print(df_train.shape)\n",
    "print(df_train['class'].value_counts())\n",
    "\n",
    "p = r'../data/yahoo/test.csv'\n",
    "df = pd.read_csv(p, header=None)\n",
    "df.columns = ['class', 'title', 'contents', 'answer']\n",
    "df = df.fillna(' ')\n",
    "df['class'] = df['class'] - 1\n",
    "df['text'] = df['title'] + ' ' + df['contents'] + ' ' + df['answer']\n",
    "print(df.shape)\n",
    "print(df['class'].value_counts())\n",
    "df_test = df\n",
    "\n",
    "df_test.head()"
   ]
  },
  {
   "cell_type": "code",
   "execution_count": 31,
   "outputs": [
    {
     "name": "stdout",
     "output_type": "stream",
     "text": [
      "create vocab\n",
      "sorting\n",
      "tokenizing\n",
      "6    14170\n",
      "5    14085\n",
      "0    14068\n",
      "3    14057\n",
      "8    14043\n",
      "9    14019\n",
      "7    13964\n",
      "4    13928\n",
      "2    13850\n",
      "1    13816\n",
      "Name: class, dtype: int64\n",
      "8    6000\n",
      "1    6000\n",
      "3    6000\n",
      "2    6000\n",
      "4    6000\n",
      "7    6000\n",
      "6    6000\n",
      "9    6000\n",
      "0    6000\n",
      "5    6000\n",
      "Name: class, dtype: int64\n"
     ]
    }
   ],
   "source": [
    "from collections import Counter\n",
    "from nltk.corpus import stopwords\n",
    "import re\n",
    "\n",
    "\n",
    "def preprocess_string(s):\n",
    "    # Remove all non-word characters (everything except numbers and letters)\n",
    "    s = re.sub(r\"[^\\w\\s]\", '', s)\n",
    "    # Replace all runs of whitespaces with no space\n",
    "    s = re.sub(r\"\\s+\", '', s)\n",
    "    # replace digits with no space\n",
    "    s = re.sub(r\"\\d\", '', s)\n",
    "\n",
    "    return s\n",
    "\n",
    "def tokenize(x_train,y_train,x_val,y_val, vocab=19998):\n",
    "    word_list = []\n",
    "\n",
    "    print(\"create vocab\")\n",
    "    stop_words = set(stopwords.words('english'))\n",
    "    for sent in x_train:\n",
    "        sent = sent.replace(r\"<br />\",' ')\n",
    "        for word in sent.lower().split():\n",
    "            word = preprocess_string(word)\n",
    "            if word not in stop_words and word != '':\n",
    "                word_list.append(word)\n",
    "\n",
    "    print(\"sorting\")\n",
    "    corpus = Counter(word_list)\n",
    "    # sorting on the basis of most common words\n",
    "    corpus_ = sorted(corpus,key=corpus.get,reverse=True)[:vocab]\n",
    "    # creating a dict\n",
    "    onehot_dict = {w:i+1 for i, w in enumerate(corpus_)}\n",
    "\n",
    "    print('tokenizing')\n",
    "    # tokenize\n",
    "    final_list_train,final_list_test = [],[]\n",
    "    for sent in x_train:\n",
    "            final_list_train.append([onehot_dict[preprocess_string(word)] for word in sent.lower().split() if preprocess_string(word) in onehot_dict.keys()])\n",
    "    for sent in x_val:\n",
    "            final_list_test.append([onehot_dict[preprocess_string(word)] for word in sent.lower().split() if preprocess_string(word) in onehot_dict.keys()])\n",
    "\n",
    "    encoded_train = y_train\n",
    "    encoded_test = y_val\n",
    "\n",
    "    return final_list_train, encoded_train, final_list_test, encoded_test,onehot_dict\n",
    "\n",
    "x_train,y_train,x_test,y_test,vocab = tokenize(x_train=df_train['text'],\n",
    "                                               y_train=df_train['class'],\n",
    "                                               x_val=df_test['text'],\n",
    "                                               y_val=df_test['class'])\n",
    "\n",
    "print(y_train.value_counts())\n",
    "print(y_test.value_counts())"
   ],
   "metadata": {
    "collapsed": false
   }
  },
  {
   "cell_type": "code",
   "execution_count": 32,
   "outputs": [
    {
     "data": {
      "text/plain": "<Figure size 640x480 with 1 Axes>",
      "image/png": "[encoded data removed]"
     },
     "metadata": {},
     "output_type": "display_data"
    },
    {
     "data": {
      "text/plain": "count    140000.000000\nmean         41.267621\nstd          45.311034\nmin           0.000000\n25%          14.000000\n50%          27.000000\n75%          51.000000\nmax         595.000000\ndtype: float64"
     },
     "execution_count": 32,
     "metadata": {},
     "output_type": "execute_result"
    }
   ],
   "source": [
    "import matplotlib.pyplot as plt\n",
    "\n",
    "rev_len = [len(i) for i in x_train]\n",
    "pd.Series(rev_len).hist()\n",
    "plt.show()\n",
    "pd.Series(rev_len).describe()"
   ],
   "metadata": {
    "collapsed": false
   }
  },
  {
   "cell_type": "code",
   "execution_count": 33,
   "outputs": [
    {
     "name": "stdout",
     "output_type": "stream",
     "text": [
      "140000 140000\n",
      "60000 60000\n",
      "200\n"
     ]
    }
   ],
   "source": [
    "max_len = 200\n",
    "\n",
    "def padding_(sentences, seq_len):\n",
    "    features = np.zeros((len(sentences), seq_len),dtype=int)\n",
    "    for ii, review in enumerate(sentences):\n",
    "        if len(review) != 0:\n",
    "            features[ii, -len(review):] = np.array(review)[:seq_len]\n",
    "    return features\n",
    "\n",
    "x_train_pad = padding_(x_train,max_len)\n",
    "x_test_pad = padding_(x_test,max_len)\n",
    "print(len(x_train_pad), len(y_train))\n",
    "print(len(x_test_pad), len(y_test))\n",
    "print(len(x_train_pad[0]))"
   ],
   "metadata": {
    "collapsed": false
   }
  },
  {
   "cell_type": "code",
   "execution_count": 34,
   "outputs": [
    {
     "name": "stdout",
     "output_type": "stream",
     "text": [
      "(140000, 200)\n",
      "(140000,)\n",
      "now dumping pickle\n"
     ]
    }
   ],
   "source": [
    "train_tokenized_idx = np.array(x_train_pad)\n",
    "train_labels_np = np.array(y_train)\n",
    "train_data = (train_tokenized_idx, train_labels_np)\n",
    "print(train_tokenized_idx.shape)\n",
    "print(train_labels_np.shape)\n",
    "\n",
    "print('now dumping pickle')\n",
    "with open(file='yahoo-train.pkl', mode='wb') as f:\n",
    "    pickle.dump(train_data, f)"
   ],
   "metadata": {
    "collapsed": false
   }
  },
  {
   "cell_type": "code",
   "execution_count": 35,
   "outputs": [
    {
     "name": "stdout",
     "output_type": "stream",
     "text": [
      "(60000, 200)\n",
      "(60000,)\n",
      "now dumping test pickle\n"
     ]
    }
   ],
   "source": [
    "test_tokenized_idx = np.array(x_test_pad)\n",
    "test_labels_np = np.array(y_test)\n",
    "test_data = (test_tokenized_idx, test_labels_np)\n",
    "print(test_tokenized_idx.shape)\n",
    "print(test_labels_np.shape)\n",
    "\n",
    "print('now dumping test pickle')\n",
    "# with open(file='ag_test.pkl', mode='wb') as f:\n",
    "with open(file='yahoo-test.pkl', mode='wb') as f:\n",
    "    pickle.dump(test_data, f)"
   ],
   "metadata": {
    "collapsed": false
   }
  },
  {
   "cell_type": "code",
   "execution_count": 35,
   "outputs": [],
   "source": [],
   "metadata": {
    "collapsed": false
   }
  }
 ],
 "metadata": {
  "kernelspec": {
   "display_name": "Python 3",
   "language": "python",
   "name": "python3"
  },
  "language_info": {
   "codemirror_mode": {
    "name": "ipython",
    "version": 2
   },
   "file_extension": ".py",
   "mimetype": "text/x-python",
   "name": "python",
   "nbconvert_exporter": "python",
   "pygments_lexer": "ipython2",
   "version": "2.7.6"
  }
 },
 "nbformat": 4,
 "nbformat_minor": 0
}
