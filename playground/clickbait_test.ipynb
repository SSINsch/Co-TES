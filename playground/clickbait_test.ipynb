{
 "cells": [
  {
   "cell_type": "code",
   "execution_count": 1,
   "metadata": {
    "collapsed": true
   },
   "outputs": [
    {
     "name": "stdout",
     "output_type": "stream",
     "text": [
      "(15999, 2)\n",
      "(16001, 2)\n",
      "(32000, 2)\n"
     ]
    },
    {
     "data": {
      "text/plain": "   class                                               text\n0      0  Bill Changing Credit Card Rules Is Sent to Oba...\n1      0  In Hollywood, the Easy-Money Generation Toughe...\n2      0  1700 runners still unaccounted for in UK's Lak...\n3      0  Yankees Pitchers Trade Fielding Drills for Put...\n4      0  Large earthquake rattles Indonesia; Seventh in...",
      "text/html": "<div>\n<style scoped>\n    .dataframe tbody tr th:only-of-type {\n        vertical-align: middle;\n    }\n\n    .dataframe tbody tr th {\n        vertical-align: top;\n    }\n\n    .dataframe thead th {\n        text-align: right;\n    }\n</style>\n<table border=\"1\" class=\"dataframe\">\n  <thead>\n    <tr style=\"text-align: right;\">\n      <th></th>\n      <th>class</th>\n      <th>text</th>\n    </tr>\n  </thead>\n  <tbody>\n    <tr>\n      <th>0</th>\n      <td>0</td>\n      <td>Bill Changing Credit Card Rules Is Sent to Oba...</td>\n    </tr>\n    <tr>\n      <th>1</th>\n      <td>0</td>\n      <td>In Hollywood, the Easy-Money Generation Toughe...</td>\n    </tr>\n    <tr>\n      <th>2</th>\n      <td>0</td>\n      <td>1700 runners still unaccounted for in UK's Lak...</td>\n    </tr>\n    <tr>\n      <th>3</th>\n      <td>0</td>\n      <td>Yankees Pitchers Trade Fielding Drills for Put...</td>\n    </tr>\n    <tr>\n      <th>4</th>\n      <td>0</td>\n      <td>Large earthquake rattles Indonesia; Seventh in...</td>\n    </tr>\n  </tbody>\n</table>\n</div>"
     },
     "execution_count": 1,
     "metadata": {},
     "output_type": "execute_result"
    }
   ],
   "source": [
    "import pandas as pd\n",
    "import pickle\n",
    "import numpy as np\n",
    "\n",
    "p = r'../data/clickbait/clickbait_data'\n",
    "with open(p, 'r') as f:\n",
    "    data = f.readlines()\n",
    "\n",
    "data = [i.strip() for i in data]\n",
    "data = list(filter(None, data))\n",
    "df_bait = pd.DataFrame(columns=['class', 'text'])\n",
    "df_bait['text'] = data\n",
    "df_bait['class'] = [1] * len(data)\n",
    "print(df_bait.shape)\n",
    "\n",
    "p = r'../data/clickbait/non_clickbait_data'\n",
    "with open(p, 'r', encoding='utf-8') as f:\n",
    "    data = f.readlines()\n",
    "\n",
    "data = [i.strip() for i in data]\n",
    "data = list(filter(None, data))\n",
    "df_normal = pd.DataFrame(columns=['class', 'text'])\n",
    "df_normal['text'] = data\n",
    "df_normal['class'] = [0] * len(data)\n",
    "print(df_normal.shape)\n",
    "\n",
    "df = pd.concat([df_normal, df_bait])\n",
    "print(df.shape)\n",
    "df.head()"
   ]
  },
  {
   "cell_type": "code",
   "execution_count": 2,
   "outputs": [
    {
     "name": "stdout",
     "output_type": "stream",
     "text": [
      "(22400, 2)\n",
      "0    11239\n",
      "1    11161\n",
      "Name: class, dtype: int64\n",
      "(9600, 2)\n",
      "1    4838\n",
      "0    4762\n",
      "Name: class, dtype: int64\n"
     ]
    },
    {
     "data": {
      "text/plain": "   class                                               text\n0      0  An angered Robert Novak exited set of CNN ''In...\n1      0  10 arrested over Ugandan school fire as death ...\n2      0  Prison Workers Fired After Shocking Children W...\n3      1  The Hardest Beatles Song Title Quiz You'll Eve...\n4      0  Australia: Indian doctor released on bail, det...",
      "text/html": "<div>\n<style scoped>\n    .dataframe tbody tr th:only-of-type {\n        vertical-align: middle;\n    }\n\n    .dataframe tbody tr th {\n        vertical-align: top;\n    }\n\n    .dataframe thead th {\n        text-align: right;\n    }\n</style>\n<table border=\"1\" class=\"dataframe\">\n  <thead>\n    <tr style=\"text-align: right;\">\n      <th></th>\n      <th>class</th>\n      <th>text</th>\n    </tr>\n  </thead>\n  <tbody>\n    <tr>\n      <th>0</th>\n      <td>0</td>\n      <td>An angered Robert Novak exited set of CNN ''In...</td>\n    </tr>\n    <tr>\n      <th>1</th>\n      <td>0</td>\n      <td>10 arrested over Ugandan school fire as death ...</td>\n    </tr>\n    <tr>\n      <th>2</th>\n      <td>0</td>\n      <td>Prison Workers Fired After Shocking Children W...</td>\n    </tr>\n    <tr>\n      <th>3</th>\n      <td>1</td>\n      <td>The Hardest Beatles Song Title Quiz You'll Eve...</td>\n    </tr>\n    <tr>\n      <th>4</th>\n      <td>0</td>\n      <td>Australia: Indian doctor released on bail, det...</td>\n    </tr>\n  </tbody>\n</table>\n</div>"
     },
     "execution_count": 2,
     "metadata": {},
     "output_type": "execute_result"
    }
   ],
   "source": [
    "ratio = 0.7\n",
    "df = df.sample(frac=1, random_state=1).reset_index(drop=True)\n",
    "df_train = df.iloc[:int(ratio * len(df))]\n",
    "print(df_train.shape)\n",
    "print(df_train['class'].value_counts())\n",
    "\n",
    "df_test = df.iloc[int(ratio * len(df)):]\n",
    "print(df_test.shape)\n",
    "print(df_test['class'].value_counts())\n",
    "\n",
    "df_train.to_csv(r'../data/clickbait-train.csv', index=False)\n",
    "df_test.to_csv(r'../data/clickbait-test.csv', index=False)\n",
    "df_train.head()"
   ],
   "metadata": {
    "collapsed": false
   }
  },
  {
   "cell_type": "code",
   "execution_count": 3,
   "outputs": [
    {
     "name": "stdout",
     "output_type": "stream",
     "text": [
      "create vocab\n",
      "sorting\n",
      "tokenizing\n",
      "0    11239\n",
      "1    11161\n",
      "Name: class, dtype: int64\n",
      "1    4838\n",
      "0    4762\n",
      "Name: class, dtype: int64\n"
     ]
    }
   ],
   "source": [
    "from collections import Counter\n",
    "from nltk.corpus import stopwords\n",
    "import re\n",
    "\n",
    "\n",
    "def preprocess_string(s):\n",
    "    # Remove all non-word characters (everything except numbers and letters)\n",
    "    s = re.sub(r\"[^\\w\\s]\", '', s)\n",
    "    # Replace all runs of whitespaces with no space\n",
    "    s = re.sub(r\"\\s+\", '', s)\n",
    "    # replace digits with no space\n",
    "    s = re.sub(r\"\\d\", '', s)\n",
    "\n",
    "    return s\n",
    "\n",
    "def tokenize(x_train,y_train,x_val,y_val, vocab=19998):\n",
    "    word_list = []\n",
    "\n",
    "    print(\"create vocab\")\n",
    "    stop_words = set(stopwords.words('english'))\n",
    "    for sent in x_train:\n",
    "        sent = sent.replace(r\"<br />\",' ')\n",
    "        for word in sent.lower().split():\n",
    "            word = preprocess_string(word)\n",
    "            if word not in stop_words and word != '':\n",
    "                word_list.append(word)\n",
    "\n",
    "    print(\"sorting\")\n",
    "    corpus = Counter(word_list)\n",
    "    # sorting on the basis of most common words\n",
    "    corpus_ = sorted(corpus,key=corpus.get,reverse=True)[:vocab]\n",
    "    # creating a dict\n",
    "    onehot_dict = {w:i+1 for i, w in enumerate(corpus_)}\n",
    "\n",
    "    print('tokenizing')\n",
    "    # tokenize\n",
    "    final_list_train,final_list_test = [],[]\n",
    "    for sent in x_train:\n",
    "            final_list_train.append([onehot_dict[preprocess_string(word)] for word in sent.lower().split() if preprocess_string(word) in onehot_dict.keys()])\n",
    "    for sent in x_val:\n",
    "            final_list_test.append([onehot_dict[preprocess_string(word)] for word in sent.lower().split() if preprocess_string(word) in onehot_dict.keys()])\n",
    "\n",
    "    encoded_train = y_train\n",
    "    encoded_test = y_val\n",
    "\n",
    "    return final_list_train, encoded_train, final_list_test, encoded_test,onehot_dict\n",
    "\n",
    "x_train,y_train,x_test,y_test,vocab = tokenize(x_train=df_train['text'],\n",
    "                                               y_train=df_train['class'],\n",
    "                                               x_val=df_test['text'],\n",
    "                                               y_val=df_test['class'])\n",
    "print(y_train.value_counts())\n",
    "print(y_test.value_counts())"
   ],
   "metadata": {
    "collapsed": false
   }
  },
  {
   "cell_type": "code",
   "execution_count": 4,
   "outputs": [
    {
     "data": {
      "text/plain": "<Figure size 640x480 with 1 Axes>",
      "image/png": "[encoded data removed]"
     },
     "metadata": {},
     "output_type": "display_data"
    },
    {
     "data": {
      "text/plain": "count    22400.000000\nmean         5.986205\nstd          1.784531\nmin          0.000000\n25%          5.000000\n50%          6.000000\n75%          7.000000\nmax         15.000000\ndtype: float64"
     },
     "execution_count": 4,
     "metadata": {},
     "output_type": "execute_result"
    }
   ],
   "source": [
    "import matplotlib.pyplot as plt\n",
    "\n",
    "rev_len = [len(i) for i in x_train]\n",
    "pd.Series(rev_len).hist()\n",
    "plt.show()\n",
    "pd.Series(rev_len).describe()"
   ],
   "metadata": {
    "collapsed": false
   }
  },
  {
   "cell_type": "code",
   "execution_count": 5,
   "outputs": [
    {
     "name": "stdout",
     "output_type": "stream",
     "text": [
      "22400 22400\n",
      "9600 9600\n",
      "15\n"
     ]
    }
   ],
   "source": [
    "max_len = 15\n",
    "\n",
    "def padding_(sentences, seq_len):\n",
    "    features = np.zeros((len(sentences), seq_len),dtype=int)\n",
    "    for ii, review in enumerate(sentences):\n",
    "        if len(review) != 0:\n",
    "            features[ii, -len(review):] = np.array(review)[:seq_len]\n",
    "    return features\n",
    "\n",
    "x_train_pad = padding_(x_train,max_len)\n",
    "x_test_pad = padding_(x_test,max_len)\n",
    "print(len(x_train_pad), len(y_train))\n",
    "print(len(x_test_pad), len(y_test))\n",
    "print(len(x_train_pad[0]))"
   ],
   "metadata": {
    "collapsed": false
   }
  },
  {
   "cell_type": "code",
   "execution_count": 6,
   "outputs": [
    {
     "name": "stdout",
     "output_type": "stream",
     "text": [
      "(22400, 15)\n",
      "(22400,)\n",
      "now dumping pickle\n",
      "(9600, 15)\n",
      "(9600,)\n",
      "now dumping test pickle\n"
     ]
    }
   ],
   "source": [
    "train_tokenized_idx = np.array(x_train_pad)\n",
    "train_labels_np = np.array(y_train)\n",
    "train_data = (train_tokenized_idx, train_labels_np)\n",
    "print(train_tokenized_idx.shape)\n",
    "print(train_labels_np.shape)\n",
    "\n",
    "print('now dumping pickle')\n",
    "with open(file='clickbait-train.pkl', mode='wb') as f:\n",
    "    pickle.dump(train_data, f)\n",
    "\n",
    "test_tokenized_idx = np.array(x_test_pad)\n",
    "test_labels_np = np.array(y_test)\n",
    "test_data = (test_tokenized_idx, test_labels_np)\n",
    "print(test_tokenized_idx.shape)\n",
    "print(test_labels_np.shape)\n",
    "\n",
    "print('now dumping test pickle')\n",
    "# with open(file='ag_test.pkl', mode='wb') as f:\n",
    "with open(file='clickbait-test.pkl', mode='wb') as f:\n",
    "    pickle.dump(test_data, f)"
   ],
   "metadata": {
    "collapsed": false
   }
  }
 ],
 "metadata": {
  "kernelspec": {
   "display_name": "Python 3",
   "language": "python",
   "name": "python3"
  },
  "language_info": {
   "codemirror_mode": {
    "name": "ipython",
    "version": 2
   },
   "file_extension": ".py",
   "mimetype": "text/x-python",
   "name": "python",
   "nbconvert_exporter": "python",
   "pygments_lexer": "ipython2",
   "version": "2.7.6"
  }
 },
 "nbformat": 4,
 "nbformat_minor": 0
}
