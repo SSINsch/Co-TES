{
 "cells": [
  {
   "cell_type": "markdown",
   "source": [
    "# 주의사항\n",
    "- [ ]  그래프, vector-based → EPS 권장\n",
    "- [ ]  중간 색조의 그림 → JPEG 권장\n",
    "- [ ]  halftone and bitmap → TIF, TIFF 권장\n",
    "- [ ]  폰트는 Arial(Helvetica) / Courier / Symbol / Times(Times new Roman)\n",
    "- [ ]  그림 이름은 이후 논문에 맞춰서 (FIG1.TIF / SC4.EPS / PL2.TIF) 등과 같이 기술\n",
    "- [ ]  사이즈는\n",
    "    - [ ]  Single column → 90mm(255pt) / 1063pix(300dpi) / 1772pix(500dpi) / 3543pix(1000dpi)\n",
    "    - [ ]  1.5 column → 140mm(397pt) / 1654pix(300dpi) / 2756pix(500dpi) / 5512pix(1000dpi)\n",
    "    - [ ]  double column → 190mm(539pt) / 2244pix(300dpi) / 3740pix(500dpi) / 7480pix(1000dpi)"
   ],
   "metadata": {
    "collapsed": false
   }
  },
  {
   "cell_type": "code",
   "execution_count": 1,
   "outputs": [],
   "source": [
    "%matplotlib inline\n",
    "import pandas as pd\n",
    "import matplotlib\n",
    "import matplotlib.pyplot as plt\n",
    "from matplotlib.pyplot import cm\n",
    "import numpy as np\n",
    "from typing import Dict\n",
    "import re\n",
    "from utils.tsboard_aggregator import TensorBoardPrinter\n",
    "\n",
    "plt.rc('font', size=40)        # 기본 폰트 크기\n",
    "plt.rc('axes', labelsize=40)   # x,y축 label 폰트 크기\n",
    "plt.rc('xtick', labelsize=40)  # x축 눈금 폰트 크기\n",
    "plt.rc('ytick', labelsize=40)  # y축 눈금 폰트 크기\n",
    "plt.rc('legend', fontsize=40)  # 범례 폰트 크기\n",
    "plt.rc('font', family='Arial')\n",
    "plt.rc('figure', titlesize=50) # figure title 폰트 크기"
   ],
   "metadata": {
    "collapsed": false
   }
  },
  {
   "cell_type": "markdown",
   "source": [
    "# Mixed Model Architecture Accuracy 그림 출력"
   ],
   "metadata": {
    "collapsed": false
   }
  },
  {
   "cell_type": "code",
   "execution_count": 2,
   "outputs": [
    {
     "name": "stderr",
     "output_type": "stream",
     "text": [
      "The PostScript backend does not support transparency; partially transparent artists will be rendered opaque.\n"
     ]
    }
   ],
   "source": [
    "main_title = f'Experiments. Mixed Architecture'\n",
    "# output_file = r'../pic/fig_MixedArchitecture.eps'\n",
    "output_file = r'../pic/FIG4.eps'\n",
    "criterion = 'test_acc'\n",
    "# https://matplotlib.org/stable/gallery/color/named_colors.html\n",
    "colors = []\n",
    "\n",
    "fig = plt.figure(figsize=(45, 15))\n",
    "# fig.suptitle(f'{main_title}', fontsize=80)\n",
    "\n",
    "# 서브플롯들을 1x3 배열로 배치\n",
    "ax1 = fig.add_subplot(1, 3, 1)\n",
    "ax2 = fig.add_subplot(1, 3, 2)\n",
    "ax3 = fig.add_subplot(1, 3, 3)\n",
    "\n",
    "# plot graphs\n",
    "# ax1\n",
    "p = '../logs/news/Fig4_MixedArchitecture/fig_A'\n",
    "tb_printer = TensorBoardPrinter(root_dir=p)\n",
    "dict_df = tb_printer.recursive_run()\n",
    "for k in dict_df.keys():\n",
    "        _, _, _, model1, model_opt1, model2, model_opt2 = k.split('_')\n",
    "        label = '_'.join([model1, model_opt1, model2, model_opt2])\n",
    "        df = dict_df[k][criterion]\n",
    "        # ax1.plot(df['step'], df['value'], label=label, color='blue')\n",
    "        ax1.plot(df['step'], df['value'], label=label)\n",
    "\n",
    "# ax2\n",
    "p = '../logs/news/Fig4_MixedArchitecture/fig_B'\n",
    "tb_printer = TensorBoardPrinter(root_dir=p)\n",
    "dict_df = tb_printer.recursive_run()\n",
    "for k in dict_df.keys():\n",
    "        _, _, _, model1, model_opt1, model2, model_opt2 = k.split('_')\n",
    "        label = '_'.join([model1, model_opt1, model2, model_opt2])\n",
    "        df = dict_df[k][criterion]\n",
    "        # ax2.plot(df['step'], df['value'], label=label, color='green')\n",
    "        ax2.plot(df['step'], df['value'], label=label)\n",
    "\n",
    "# ax3\n",
    "p = '../logs/news/Fig4_MixedArchitecture/fig_C'\n",
    "tb_printer = TensorBoardPrinter(root_dir=p)\n",
    "dict_df = tb_printer.recursive_run()\n",
    "for k in dict_df.keys():\n",
    "        _, _, _, model1, model_opt1, model2, model_opt2 = k.split('_')\n",
    "        label = '_'.join([model1, model_opt1, model2, model_opt2])\n",
    "        df = dict_df[k][criterion]\n",
    "        # ax3.plot(df['step'], df['value'], label=label, color='red')\n",
    "        ax3.plot(df['step'], df['value'], label=label)\n",
    "\n",
    "# setting\n",
    "ax1.set(xlabel='Step', ylabel='Accuracy', ylim=(0.2, 1),\n",
    "        title=f'Test Accuracy with TextCNN')\n",
    "ax1.grid(axis='y')\n",
    "ax2.set(xlabel='Step', ylabel='Accuracy', ylim=(0.2, 1),\n",
    "        title=f'Test Accuracy with BiLSTM')\n",
    "ax2.grid(axis='y')\n",
    "ax3.set(xlabel='Step', ylabel='Accuracy', ylim=(0.2, 1),\n",
    "        title=f'Test Accuracy with FCN')\n",
    "ax3.grid(axis='y')\n",
    "\n",
    "# legends\n",
    "# ax1.legend(loc='best')\n",
    "ax1.legend(loc='lower right')\n",
    "ax2.legend(loc='lower right')\n",
    "ax3.legend(loc='lower right')\n",
    "\n",
    "# save\n",
    "# plt.show()\n",
    "plt.savefig(output_file, dpi=300, format='eps', bbox_inches='tight')\n",
    "plt.clf()\n",
    "plt.cla()\n",
    "plt.close()"
   ],
   "metadata": {
    "collapsed": false
   }
  },
  {
   "cell_type": "markdown",
   "source": [
    "# TextCNN + Various size of (lstm, fcn) 실험 그림 출력"
   ],
   "metadata": {
    "collapsed": false
   }
  },
  {
   "cell_type": "code",
   "execution_count": 6,
   "outputs": [
    {
     "name": "stderr",
     "output_type": "stream",
     "text": [
      "The PostScript backend does not support transparency; partially transparent artists will be rendered opaque.\n"
     ]
    }
   ],
   "source": [
    "main_title = f'Experiments. CNN with Various (LSTM, FCN) model size'\n",
    "# output_file = r'../pic/fig_CNN+VariousModelSize.eps'\n",
    "output_file = r'../pic/FIG5.eps'\n",
    "criterion = 'test_acc'\n",
    "# https://matplotlib.org/stable/gallery/color/named_colors.html\n",
    "colors = []\n",
    "\n",
    "fig = plt.figure(figsize=(45, 10))\n",
    "# fig.suptitle(f'{main_title}', fontsize=80)\n",
    "\n",
    "# 서브플롯들을 1x2 배열로 배치\n",
    "ax1 = fig.add_subplot(1, 2, 1)\n",
    "ax2 = fig.add_subplot(1, 2, 2)\n",
    "\n",
    "# plot graphs\n",
    "# ax1\n",
    "p = '../logs/news/Fig5_CNN+VariousSize/fig_A'\n",
    "tb_printer = TensorBoardPrinter(root_dir=p)\n",
    "dict_df = tb_printer.recursive_run()\n",
    "for k in dict_df.keys():\n",
    "        _, _, _, model1, model_opt1, model2, model_opt2 = k.split('_')\n",
    "        label = '_'.join([model1, model_opt1, model2, model_opt2])\n",
    "        df = dict_df[k][criterion]\n",
    "        # ax1.plot(df['step'], df['value'], label=label, color='blue')\n",
    "        ax1.plot(df['step'][:100], df['value'][:100], label=label)\n",
    "\n",
    "# ax2\n",
    "p = '../logs/news/Fig5_CNN+VariousSize/fig_B'\n",
    "tb_printer = TensorBoardPrinter(root_dir=p)\n",
    "dict_df = tb_printer.recursive_run()\n",
    "for k in dict_df.keys():\n",
    "        _, _, _, model1, model_opt1, model2, model_opt2 = k.split('_')\n",
    "        label = '_'.join([model1, model_opt1, model2, model_opt2])\n",
    "        df = dict_df[k][criterion]\n",
    "        # ax2.plot(df['step'], df['value'], label=label, color='green')\n",
    "        ax2.plot(df['step'][:100], df['value'][:100], label=label)\n",
    "\n",
    "\n",
    "# setting\n",
    "ax1.set(xlabel='Step', ylabel='Accuracy', ylim=(0.5, 1),\n",
    "        title=f'Test Accuracy of TextCNN with Various BiLSTM')\n",
    "ax1.grid(axis='y')\n",
    "ax2.set(xlabel='Step', ylabel='Accuracy', ylim=(0.5, 1),\n",
    "        title=f'Test Accuracy of TextCNN with Various FCN')\n",
    "ax2.grid(axis='y')\n",
    "\n",
    "# legends\n",
    "# ax1.legend(loc='best')\n",
    "ax1.legend(loc='lower right')\n",
    "ax2.legend(loc='lower right')\n",
    "\n",
    "# save\n",
    "# plt.show()\n",
    "plt.savefig(output_file, dpi=300, format='eps', bbox_inches='tight')\n",
    "plt.clf()\n",
    "plt.cla()\n",
    "plt.close()"
   ],
   "metadata": {
    "collapsed": false
   }
  },
  {
   "cell_type": "markdown",
   "source": [
    "# BiLSTM + BiLSTM various model size 실험 그림 출력"
   ],
   "metadata": {
    "collapsed": false
   }
  },
  {
   "cell_type": "code",
   "execution_count": 4,
   "outputs": [
    {
     "name": "stderr",
     "output_type": "stream",
     "text": [
      "The PostScript backend does not support transparency; partially transparent artists will be rendered opaque.\n"
     ]
    }
   ],
   "source": [
    "# output_file = r'../pic/fig_LSTM_variousSize.eps'\n",
    "output_file = r'../pic/FIG6.eps'\n",
    "criterion = 'test_acc'\n",
    "# https://matplotlib.org/stable/gallery/color/named_colors.html\n",
    "colors = []\n",
    "\n",
    "fig = plt.figure(figsize=(45, 15))\n",
    "# fig.suptitle(f'{main_title}', fontsize=80)\n",
    "\n",
    "# 서브플롯들을 1x3 배열로 배치\n",
    "ax1 = fig.add_subplot(1, 3, 1)\n",
    "ax2 = fig.add_subplot(1, 3, 2)\n",
    "ax3 = fig.add_subplot(1, 3, 3)\n",
    "\n",
    "# plot graphs\n",
    "# ax1\n",
    "p = '../logs/news/Fig6_LSTM_VariousSize/fig_A'\n",
    "tb_printer = TensorBoardPrinter(root_dir=p)\n",
    "dict_df = tb_printer.recursive_run()\n",
    "for k in dict_df.keys():\n",
    "        _, _, _, model1, model_opt1, model2, model_opt2 = k.split('_')\n",
    "        label = '_'.join([model1, model_opt1, model2, model_opt2])\n",
    "        df = dict_df[k][criterion]\n",
    "        # ax1.plot(df['step'], df['value'], label=label, color='blue')\n",
    "        ax1.plot(df['step'][:100], df['value'][:100], label=label)\n",
    "\n",
    "# ax2\n",
    "p = '../logs/news/Fig6_LSTM_VariousSize/fig_B'\n",
    "tb_printer = TensorBoardPrinter(root_dir=p)\n",
    "dict_df = tb_printer.recursive_run()\n",
    "for k in dict_df.keys():\n",
    "        _, _, _, model1, model_opt1, model2, model_opt2 = k.split('_')\n",
    "        label = '_'.join([model1, model_opt1, model2, model_opt2])\n",
    "        df = dict_df[k][criterion]\n",
    "        # ax2.plot(df['step'], df['value'], label=label, color='green')\n",
    "        ax2.plot(df['step'][:100], df['value'][:100], label=label)\n",
    "\n",
    "# ax3\n",
    "p = '../logs/news/Fig6_LSTM_VariousSize/fig_C'\n",
    "tb_printer = TensorBoardPrinter(root_dir=p)\n",
    "dict_df = tb_printer.recursive_run()\n",
    "for k in dict_df.keys():\n",
    "        _, _, _, model1, model_opt1, model2, model_opt2 = k.split('_')\n",
    "        label = '_'.join([model1, model_opt1, model2, model_opt2])\n",
    "        df = dict_df[k][criterion]\n",
    "        # ax3.plot(df['step'], df['value'], label=label, color='red')\n",
    "        ax3.plot(df['step'][:100], df['value'][:100], label=label)\n",
    "\n",
    "# setting\n",
    "ax1.set(xlabel='Step', ylabel='Accuracy', ylim=(0.2, 1),\n",
    "        title=f'Test Accuracy of BiLSTM (Size 300)')\n",
    "ax1.grid(axis='y')\n",
    "ax2.set(xlabel='Step', ylabel='Accuracy', ylim=(0.2, 1),\n",
    "        title=f'Test Accuracy of BiLSTM (Size 100)')\n",
    "ax2.grid(axis='y')\n",
    "ax3.set(xlabel='Step', ylabel='Accuracy', ylim=(0.2, 1),\n",
    "        title=f'Test Accuracy of BiLSTM (Size 50)')\n",
    "ax3.grid(axis='y')\n",
    "\n",
    "# legends\n",
    "# ax1.legend(loc='best')\n",
    "ax1.legend(loc='lower right')\n",
    "ax2.legend(loc='lower right')\n",
    "ax3.legend(loc='lower right')\n",
    "\n",
    "# save\n",
    "# plt.show()\n",
    "plt.savefig(output_file, dpi=300, format='eps', bbox_inches='tight')\n",
    "plt.clf()\n",
    "plt.cla()\n",
    "plt.close()"
   ],
   "metadata": {
    "collapsed": false
   }
  },
  {
   "cell_type": "markdown",
   "source": [
    "# Mixed Model Architecture Loss 그림 출력"
   ],
   "metadata": {
    "collapsed": false
   }
  },
  {
   "cell_type": "code",
   "execution_count": 5,
   "outputs": [
    {
     "name": "stderr",
     "output_type": "stream",
     "text": [
      "The PostScript backend does not support transparency; partially transparent artists will be rendered opaque.\n"
     ]
    }
   ],
   "source": [
    "main_title = f'Experiments. Mixed Architecture'\n",
    "# output_file = r'../pic/fig_MixedArchitectureLoss.eps'\n",
    "output_file = r'../pic/FIG7.eps'\n",
    "criterion = 'val_loss'\n",
    "# https://matplotlib.org/stable/gallery/color/named_colors.html\n",
    "colors = []\n",
    "\n",
    "fig = plt.figure(figsize=(45, 15))\n",
    "# fig.suptitle(f'{main_title}', fontsize=80)\n",
    "\n",
    "# 서브플롯들을 1x3 배열로 배치\n",
    "ax1 = fig.add_subplot(1, 3, 1)\n",
    "ax2 = fig.add_subplot(1, 3, 2)\n",
    "ax3 = fig.add_subplot(1, 3, 3)\n",
    "\n",
    "# plot graphs\n",
    "# ax1\n",
    "p = '../logs/news/Fig4_MixedArchitecture/fig_A'\n",
    "tb_printer = TensorBoardPrinter(root_dir=p)\n",
    "dict_df = tb_printer.recursive_run()\n",
    "for k in dict_df.keys():\n",
    "        _, _, _, model1, model_opt1, model2, model_opt2 = k.split('_')\n",
    "        label = '_'.join([model1, model_opt1, model2, model_opt2])\n",
    "        df = dict_df[k][criterion]\n",
    "        # ax1.plot(df['step'], df['value'], label=label, color='blue')\n",
    "        ax1.plot(df['step'], df['value'], label=label)\n",
    "\n",
    "# ax2\n",
    "p = '../logs/news/Fig4_MixedArchitecture/fig_B'\n",
    "tb_printer = TensorBoardPrinter(root_dir=p)\n",
    "dict_df = tb_printer.recursive_run()\n",
    "for k in dict_df.keys():\n",
    "        _, _, _, model1, model_opt1, model2, model_opt2 = k.split('_')\n",
    "        label = '_'.join([model1, model_opt1, model2, model_opt2])\n",
    "        df = dict_df[k][criterion]\n",
    "        # ax2.plot(df['step'], df['value'], label=label, color='green')\n",
    "        ax2.plot(df['step'], df['value'], label=label)\n",
    "\n",
    "# ax3\n",
    "p = '../logs/news/Fig4_MixedArchitecture/fig_C'\n",
    "tb_printer = TensorBoardPrinter(root_dir=p)\n",
    "dict_df = tb_printer.recursive_run()\n",
    "for k in dict_df.keys():\n",
    "        _, _, _, model1, model_opt1, model2, model_opt2 = k.split('_')\n",
    "        label = '_'.join([model1, model_opt1, model2, model_opt2])\n",
    "        df = dict_df[k][criterion]\n",
    "        # ax3.plot(df['step'], df['value'], label=label, color='red')\n",
    "        ax3.plot(df['step'], df['value'], label=label)\n",
    "\n",
    "# setting\n",
    "ax1.set(xlabel='Step', ylabel='Loss', ylim=(0, 0.5),\n",
    "        title=f'Loss with TextCNN')\n",
    "ax1.grid(axis='y')\n",
    "ax2.set(xlabel='Step', ylabel='Loss', ylim=(0, 0.5),\n",
    "        title=f'Loss with BiLSTM')\n",
    "ax2.grid(axis='y')\n",
    "ax3.set(xlabel='Step', ylabel='Loss', ylim=(0, 0.5),\n",
    "        title=f'Loss with FCN')\n",
    "ax3.grid(axis='y')\n",
    "\n",
    "# legends\n",
    "# ax1.legend(loc='best')\n",
    "ax1.legend(loc='upper right')\n",
    "ax2.legend(loc='upper right')\n",
    "ax3.legend(loc='upper right')\n",
    "\n",
    "# save\n",
    "# plt.show()\n",
    "plt.savefig(output_file, dpi=300, format='eps', bbox_inches='tight')\n",
    "plt.clf()\n",
    "plt.cla()\n",
    "plt.close()"
   ],
   "metadata": {
    "collapsed": false
   }
  },
  {
   "cell_type": "code",
   "execution_count": 5,
   "outputs": [],
   "source": [],
   "metadata": {
    "collapsed": false
   }
  }
 ],
 "metadata": {
  "kernelspec": {
   "display_name": "Python 3",
   "language": "python",
   "name": "python3"
  },
  "language_info": {
   "codemirror_mode": {
    "name": "ipython",
    "version": 2
   },
   "file_extension": ".py",
   "mimetype": "text/x-python",
   "name": "python",
   "nbconvert_exporter": "python",
   "pygments_lexer": "ipython2",
   "version": "2.7.6"
  }
 },
 "nbformat": 4,
 "nbformat_minor": 0
}
