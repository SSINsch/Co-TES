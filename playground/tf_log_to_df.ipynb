{
 "cells": [
  {
   "cell_type": "code",
   "execution_count": 1,
   "metadata": {
    "collapsed": true
   },
   "outputs": [],
   "source": [
    "%matplotlib inline\n",
    "import pandas as pd\n",
    "import matplotlib\n",
    "import matplotlib.pyplot as plt\n",
    "from matplotlib.pyplot import cm\n",
    "import numpy as np\n",
    "from typing import Dict\n",
    "import re\n",
    "from utils.tsboard_aggregator import TensorBoardPrinter"
   ]
  },
  {
   "cell_type": "code",
   "execution_count": 4,
   "outputs": [],
   "source": [
    "color = cm.rainbow(np.linspace(0, 1, 10))\n",
    "\n",
    "def save_fig_acc(target: Dict[str, Dict[str, pd.DataFrame]],\n",
    "                 filter: Dict = None,\n",
    "                 output_file: str = None) -> None:\n",
    "    if filter is None:\n",
    "        filter = {'seed': '1', 'noise_type': 'symmetric', 'noise_rate': '0.2'}\n",
    "\n",
    "    # 1_symmetric_0.2_cnn_345_cnn_345'\n",
    "    # filter에 맞게 target dictionary 내에 key들만 따로 뽑아서 사용\n",
    "    filtered_target_keys = []\n",
    "    regex = '^'\n",
    "    for f in ['seed', 'noise_type', 'noise_rate', 'model1', 'model_opt1', 'model2', 'model_opt2']:\n",
    "        if (f in filter.keys()) and (filter[f] != ''):\n",
    "            regex += filter[f] + '_'\n",
    "        else:\n",
    "            # 문자, 숫자, dot, 사용\n",
    "            regex += '[0-9a-zA-Z]+[\\.0-9a-zA-Z]*'+'_'\n",
    "    regex = regex[:-1] + '$'\n",
    "    pattern = re.compile(regex)\n",
    "\n",
    "    for k in target.keys():\n",
    "        # regex에 해당하면\n",
    "        if pattern.match(k):\n",
    "            filtered_target_keys.append(k)\n",
    "\n",
    "    fig, ax = plt.subplots(figsize=(10, 10))\n",
    "    for k in filtered_target_keys:\n",
    "        seed, noise_type, noise_rate, model1, model_opt1, model2, model_opt2 = k.split('_')\n",
    "        label = '_'.join([model1, model_opt1, model2, model_opt2])\n",
    "        ex = target[k]\n",
    "        loss_keys = [k for k in ex.keys() if 'loss' in k]\n",
    "\n",
    "        # case Test acc\n",
    "        ax.set(xlabel='Step',\n",
    "               ylabel='Accuracy', ylim=(0.2, 1),\n",
    "               title=f'Test Accuracy: seed_{seed}, noise_type_{noise_type}, noise_rate_{noise_rate}')\n",
    "        df = ex['test_acc']\n",
    "        ax.plot(df['step'], df['value'], label=label)\n",
    "        ax.legend(loc='lower right')\n",
    "\n",
    "    if output_file is not None:\n",
    "        plt.savefig(output_file+'.png', dpi=200, facecolor='#eeeeee', edgecolor='black')\n",
    "    else:\n",
    "        plt.show()\n",
    "    plt.clf()\n",
    "    plt.cla()\n",
    "    plt.close()"
   ],
   "metadata": {
    "collapsed": false
   }
  },
  {
   "cell_type": "markdown",
   "source": [
    "# CNN 기준 비교"
   ],
   "metadata": {
    "collapsed": false
   }
  },
  {
   "cell_type": "code",
   "execution_count": 5,
   "outputs": [],
   "source": [
    "p = '../logs/news/coteaching_plus/TextCNN_other_models'\n",
    "tb_printer = TensorBoardPrinter(root_dir=p)\n",
    "res = tb_printer.recursive_run()\n",
    "save_fig_acc(res, output_file='cnn_other_models_seed1', filter={'seed':'1'})\n",
    "save_fig_acc(res, output_file='cnn_other_models_seed2', filter={'seed':'2'})\n",
    "save_fig_acc(res, output_file='cnn_other_models_seed3', filter={'seed':'3'})\n",
    "save_fig_acc(res, output_file='cnn_other_models_seed4', filter={'seed':'4'})\n",
    "save_fig_acc(res, output_file='cnn_other_models_seed5', filter={'seed':'5'})"
   ],
   "metadata": {
    "collapsed": false
   }
  },
  {
   "cell_type": "markdown",
   "source": [
    "# LSTM 기준 비교"
   ],
   "metadata": {
    "collapsed": false
   }
  },
  {
   "cell_type": "code",
   "execution_count": 6,
   "outputs": [],
   "source": [
    "p = '../logs/news/coteaching_plus/LSTM_other_models'\n",
    "tb_printer = TensorBoardPrinter(root_dir=p)\n",
    "res = tb_printer.recursive_run()\n",
    "save_fig_acc(res, output_file='lstm_other_models_seed1', filter={'seed':'1'})\n",
    "save_fig_acc(res, output_file='lstm_other_models_seed2', filter={'seed':'2'})\n",
    "save_fig_acc(res, output_file='lstm_other_models_seed3', filter={'seed':'3'})\n",
    "save_fig_acc(res, output_file='lstm_other_models_seed4', filter={'seed':'4'})\n",
    "save_fig_acc(res, output_file='lstm_other_models_seed5', filter={'seed':'5'})"
   ],
   "metadata": {
    "collapsed": false
   }
  },
  {
   "cell_type": "markdown",
   "source": [
    "# FCN 기준 비교"
   ],
   "metadata": {
    "collapsed": false
   }
  },
  {
   "cell_type": "code",
   "execution_count": 7,
   "outputs": [],
   "source": [
    "p = '../logs/news/coteaching_plus/FCN_other_models'\n",
    "tb_printer = TensorBoardPrinter(root_dir=p)\n",
    "res = tb_printer.recursive_run()\n",
    "save_fig_acc(res, output_file='fcn_other_models_seed1', filter={'seed':'1'})\n",
    "save_fig_acc(res, output_file='fcn_other_models_seed2', filter={'seed':'2'})\n",
    "save_fig_acc(res, output_file='fcn_other_models_seed3', filter={'seed':'3'})\n",
    "save_fig_acc(res, output_file='fcn_other_models_seed4', filter={'seed':'4'})\n",
    "save_fig_acc(res, output_file='fcn_other_models_seed5', filter={'seed':'5'})"
   ],
   "metadata": {
    "collapsed": false
   }
  },
  {
   "cell_type": "markdown",
   "source": [
    "# 전체 비교"
   ],
   "metadata": {
    "collapsed": false
   }
  },
  {
   "cell_type": "code",
   "execution_count": 8,
   "outputs": [],
   "source": [
    "p = '../logs/news/coteaching_plus/All_other_models'\n",
    "tb_printer = TensorBoardPrinter(root_dir=p)\n",
    "res = tb_printer.recursive_run()\n",
    "save_fig_acc(res, output_file='all_other_models_seed1', filter={'seed':'1'})\n",
    "save_fig_acc(res, output_file='all_other_models_seed2', filter={'seed':'2'})\n",
    "save_fig_acc(res, output_file='all_other_models_seed3', filter={'seed':'3'})\n",
    "save_fig_acc(res, output_file='all_other_models_seed4', filter={'seed':'4'})\n",
    "save_fig_acc(res, output_file='all_other_models_seed5', filter={'seed':'5'})"
   ],
   "metadata": {
    "collapsed": false
   }
  },
  {
   "cell_type": "markdown",
   "source": [
    "# LSTM hidden 기준 비교"
   ],
   "metadata": {
    "collapsed": false
   }
  },
  {
   "cell_type": "code",
   "execution_count": 9,
   "outputs": [],
   "source": [
    "p = '../logs/news/coteaching_plus/LSTM_hidden'\n",
    "tb_printer = TensorBoardPrinter(root_dir=p)\n",
    "res = tb_printer.recursive_run()\n",
    "save_fig_acc(res, output_file='lstm_hidden_seed1', filter={'seed':'1'})\n",
    "save_fig_acc(res, output_file='lstm_hidden_seed2', filter={'seed':'2'})\n",
    "save_fig_acc(res, output_file='lstm_hidden_seed3', filter={'seed':'3'})\n",
    "save_fig_acc(res, output_file='lstm_hidden_seed4', filter={'seed':'4'})\n",
    "save_fig_acc(res, output_file='lstm_hidden_seed5', filter={'seed':'5'})"
   ],
   "metadata": {
    "collapsed": false
   }
  },
  {
   "cell_type": "markdown",
   "source": [
    "# LSTM hidden 기준 비교 (~60epoch)"
   ],
   "metadata": {
    "collapsed": false
   }
  },
  {
   "cell_type": "code",
   "execution_count": 10,
   "outputs": [],
   "source": [
    "p = '../logs/news/coteaching_plus/lstm_hidden_epoch60'\n",
    "tb_printer = TensorBoardPrinter(root_dir=p)\n",
    "res = tb_printer.recursive_run()\n",
    "save_fig_acc(res, output_file='lstm_hidden_e60_seed1', filter={'seed':'1'})\n",
    "save_fig_acc(res, output_file='lstm_hidden_e60_seed2', filter={'seed':'2'})\n",
    "save_fig_acc(res, output_file='lstm_hidden_e60_seed3', filter={'seed':'3'})"
   ],
   "metadata": {
    "collapsed": false
   }
  }
 ],
 "metadata": {
  "kernelspec": {
   "display_name": "Python 3",
   "language": "python",
   "name": "python3"
  },
  "language_info": {
   "codemirror_mode": {
    "name": "ipython",
    "version": 2
   },
   "file_extension": ".py",
   "mimetype": "text/x-python",
   "name": "python",
   "nbconvert_exporter": "python",
   "pygments_lexer": "ipython2",
   "version": "2.7.6"
  }
 },
 "nbformat": 4,
 "nbformat_minor": 0
}
