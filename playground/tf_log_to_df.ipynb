{
 "cells": [
  {
   "cell_type": "code",
   "execution_count": 10,
   "metadata": {
    "collapsed": true
   },
   "outputs": [],
   "source": [
    "from tensorboard.backend.event_processing.event_accumulator import EventAccumulator\n",
    "import pandas as pd"
   ]
  },
  {
   "cell_type": "code",
   "execution_count": 17,
   "outputs": [],
   "source": [
    "path = r'C:\\Users\\SHIN-DESKTOP\\Documents\\remote\\diff_model_coteaching_plus\\logs\\news\\coteaching_plus\\symmetric_0.2_seed4_ll_2022-11-03-19-58\\Acc_train_test_train_acc'\n",
    "\n",
    "event_acc = EventAccumulator(path)\n",
    "event_acc.Reload()\n",
    "tags = event_acc.Tags()"
   ],
   "metadata": {
    "collapsed": false
   }
  },
  {
   "cell_type": "code",
   "execution_count": 20,
   "outputs": [
    {
     "ename": "KeyboardInterrupt",
     "evalue": "",
     "output_type": "error",
     "traceback": [
      "\u001B[1;31m---------------------------------------------------------------------------\u001B[0m",
      "\u001B[1;31mKeyboardInterrupt\u001B[0m                         Traceback (most recent call last)",
      "Cell \u001B[1;32mIn [20], line 7\u001B[0m\n\u001B[0;32m      5\u001B[0m values \u001B[38;5;241m=\u001B[39m \u001B[38;5;28mlist\u001B[39m(\u001B[38;5;28mmap\u001B[39m(\u001B[38;5;28;01mlambda\u001B[39;00m x: x\u001B[38;5;241m.\u001B[39mvalue, event_list))\n\u001B[0;32m      6\u001B[0m step \u001B[38;5;241m=\u001B[39m \u001B[38;5;28mlist\u001B[39m(\u001B[38;5;28mmap\u001B[39m(\u001B[38;5;28;01mlambda\u001B[39;00m x: x\u001B[38;5;241m.\u001B[39mstep, event_list))\n\u001B[1;32m----> 7\u001B[0m r \u001B[38;5;241m=\u001B[39m {\u001B[38;5;124m\"\u001B[39m\u001B[38;5;124mmetric\u001B[39m\u001B[38;5;124m\"\u001B[39m: [\u001B[43msc\u001B[49m] \u001B[38;5;241m*\u001B[39m \u001B[38;5;28mlen\u001B[39m(step), \u001B[38;5;124m\"\u001B[39m\u001B[38;5;124mvalue\u001B[39m\u001B[38;5;124m\"\u001B[39m: values, \u001B[38;5;124m\"\u001B[39m\u001B[38;5;124mstep\u001B[39m\u001B[38;5;124m\"\u001B[39m: step}\n\u001B[0;32m      8\u001B[0m r \u001B[38;5;241m=\u001B[39m pd\u001B[38;5;241m.\u001B[39mDataFrame(r)\n\u001B[0;32m      9\u001B[0m runlog_data \u001B[38;5;241m=\u001B[39m pd\u001B[38;5;241m.\u001B[39mconcat([runlog_data, r])\n",
      "Cell \u001B[1;32mIn [20], line 7\u001B[0m\n\u001B[0;32m      5\u001B[0m values \u001B[38;5;241m=\u001B[39m \u001B[38;5;28mlist\u001B[39m(\u001B[38;5;28mmap\u001B[39m(\u001B[38;5;28;01mlambda\u001B[39;00m x: x\u001B[38;5;241m.\u001B[39mvalue, event_list))\n\u001B[0;32m      6\u001B[0m step \u001B[38;5;241m=\u001B[39m \u001B[38;5;28mlist\u001B[39m(\u001B[38;5;28mmap\u001B[39m(\u001B[38;5;28;01mlambda\u001B[39;00m x: x\u001B[38;5;241m.\u001B[39mstep, event_list))\n\u001B[1;32m----> 7\u001B[0m r \u001B[38;5;241m=\u001B[39m {\u001B[38;5;124m\"\u001B[39m\u001B[38;5;124mmetric\u001B[39m\u001B[38;5;124m\"\u001B[39m: [\u001B[43msc\u001B[49m] \u001B[38;5;241m*\u001B[39m \u001B[38;5;28mlen\u001B[39m(step), \u001B[38;5;124m\"\u001B[39m\u001B[38;5;124mvalue\u001B[39m\u001B[38;5;124m\"\u001B[39m: values, \u001B[38;5;124m\"\u001B[39m\u001B[38;5;124mstep\u001B[39m\u001B[38;5;124m\"\u001B[39m: step}\n\u001B[0;32m      8\u001B[0m r \u001B[38;5;241m=\u001B[39m pd\u001B[38;5;241m.\u001B[39mDataFrame(r)\n\u001B[0;32m      9\u001B[0m runlog_data \u001B[38;5;241m=\u001B[39m pd\u001B[38;5;241m.\u001B[39mconcat([runlog_data, r])\n",
      "File \u001B[1;32m_pydevd_bundle\\pydevd_cython_win32_38_64.pyx:1179\u001B[0m, in \u001B[0;36m_pydevd_bundle.pydevd_cython_win32_38_64.SafeCallWrapper.__call__\u001B[1;34m()\u001B[0m\n",
      "File \u001B[1;32m_pydevd_bundle\\pydevd_cython_win32_38_64.pyx:620\u001B[0m, in \u001B[0;36m_pydevd_bundle.pydevd_cython_win32_38_64.PyDBFrame.trace_dispatch\u001B[1;34m()\u001B[0m\n",
      "File \u001B[1;32m_pydevd_bundle\\pydevd_cython_win32_38_64.pyx:929\u001B[0m, in \u001B[0;36m_pydevd_bundle.pydevd_cython_win32_38_64.PyDBFrame.trace_dispatch\u001B[1;34m()\u001B[0m\n",
      "File \u001B[1;32m_pydevd_bundle\\pydevd_cython_win32_38_64.pyx:920\u001B[0m, in \u001B[0;36m_pydevd_bundle.pydevd_cython_win32_38_64.PyDBFrame.trace_dispatch\u001B[1;34m()\u001B[0m\n",
      "File \u001B[1;32m_pydevd_bundle\\pydevd_cython_win32_38_64.pyx:317\u001B[0m, in \u001B[0;36m_pydevd_bundle.pydevd_cython_win32_38_64.PyDBFrame.do_wait_suspend\u001B[1;34m()\u001B[0m\n",
      "File \u001B[1;32mC:\\Program Files\\JetBrains\\PyCharm 2022.2.2\\plugins\\python\\helpers\\pydev\\pydevd.py:1160\u001B[0m, in \u001B[0;36mPyDB.do_wait_suspend\u001B[1;34m(self, thread, frame, event, arg, send_suspend_message, is_unhandled_exception)\u001B[0m\n\u001B[0;32m   1157\u001B[0m         from_this_thread\u001B[38;5;241m.\u001B[39mappend(frame_id)\n\u001B[0;32m   1159\u001B[0m \u001B[38;5;28;01mwith\u001B[39;00m \u001B[38;5;28mself\u001B[39m\u001B[38;5;241m.\u001B[39m_threads_suspended_single_notification\u001B[38;5;241m.\u001B[39mnotify_thread_suspended(thread_id, stop_reason):\n\u001B[1;32m-> 1160\u001B[0m     \u001B[38;5;28;43mself\u001B[39;49m\u001B[38;5;241;43m.\u001B[39;49m\u001B[43m_do_wait_suspend\u001B[49m\u001B[43m(\u001B[49m\u001B[43mthread\u001B[49m\u001B[43m,\u001B[49m\u001B[43m \u001B[49m\u001B[43mframe\u001B[49m\u001B[43m,\u001B[49m\u001B[43m \u001B[49m\u001B[43mevent\u001B[49m\u001B[43m,\u001B[49m\u001B[43m \u001B[49m\u001B[43marg\u001B[49m\u001B[43m,\u001B[49m\u001B[43m \u001B[49m\u001B[43msuspend_type\u001B[49m\u001B[43m,\u001B[49m\u001B[43m \u001B[49m\u001B[43mfrom_this_thread\u001B[49m\u001B[43m)\u001B[49m\n",
      "File \u001B[1;32mC:\\Program Files\\JetBrains\\PyCharm 2022.2.2\\plugins\\python\\helpers\\pydev\\pydevd.py:1175\u001B[0m, in \u001B[0;36mPyDB._do_wait_suspend\u001B[1;34m(self, thread, frame, event, arg, suspend_type, from_this_thread)\u001B[0m\n\u001B[0;32m   1172\u001B[0m             \u001B[38;5;28mself\u001B[39m\u001B[38;5;241m.\u001B[39m_call_mpl_hook()\n\u001B[0;32m   1174\u001B[0m         \u001B[38;5;28mself\u001B[39m\u001B[38;5;241m.\u001B[39mprocess_internal_commands()\n\u001B[1;32m-> 1175\u001B[0m         \u001B[43mtime\u001B[49m\u001B[38;5;241;43m.\u001B[39;49m\u001B[43msleep\u001B[49m\u001B[43m(\u001B[49m\u001B[38;5;241;43m0.01\u001B[39;49m\u001B[43m)\u001B[49m\n\u001B[0;32m   1177\u001B[0m \u001B[38;5;28mself\u001B[39m\u001B[38;5;241m.\u001B[39mcancel_async_evaluation(get_current_thread_id(thread), \u001B[38;5;28mstr\u001B[39m(\u001B[38;5;28mid\u001B[39m(frame)))\n\u001B[0;32m   1179\u001B[0m \u001B[38;5;66;03m# process any stepping instructions\u001B[39;00m\n",
      "\u001B[1;31mKeyboardInterrupt\u001B[0m: "
     ]
    }
   ],
   "source": [
    "runlog_data = pd.DataFrame({\"metric\": [], \"value\": [], \"step\": []})\n",
    "scalars = event_acc.Tags()[\"scalars\"]\n",
    "for sc in scalars:\n",
    "    event_list = event_acc.Scalars(sc)\n",
    "    values = list(map(lambda x: x.value, event_list))\n",
    "    step = list(map(lambda x: x.step, event_list))\n",
    "    r = {\"metric\": [sc] * len(step), \"value\": values, \"step\": step}\n",
    "    r = pd.DataFrame(r)\n",
    "    runlog_data = pd.concat([runlog_data, r])"
   ],
   "metadata": {
    "collapsed": false
   }
  },
  {
   "cell_type": "code",
   "execution_count": 19,
   "outputs": [
    {
     "data": {
      "text/plain": "            metric     value  step\n0   Acc/train_test  0.263475   0.0\n1   Acc/train_test  0.355218   1.0\n2   Acc/train_test  0.459791   2.0\n3   Acc/train_test  0.532182   3.0\n4   Acc/train_test  0.570527   4.0\n..             ...       ...   ...\n95  Acc/train_test  0.873925  95.0\n96  Acc/train_test  0.873997  96.0\n97  Acc/train_test  0.874140  97.0\n98  Acc/train_test  0.874355  98.0\n99  Acc/train_test  0.874355  99.0\n\n[100 rows x 3 columns]",
      "text/html": "<div>\n<style scoped>\n    .dataframe tbody tr th:only-of-type {\n        vertical-align: middle;\n    }\n\n    .dataframe tbody tr th {\n        vertical-align: top;\n    }\n\n    .dataframe thead th {\n        text-align: right;\n    }\n</style>\n<table border=\"1\" class=\"dataframe\">\n  <thead>\n    <tr style=\"text-align: right;\">\n      <th></th>\n      <th>metric</th>\n      <th>value</th>\n      <th>step</th>\n    </tr>\n  </thead>\n  <tbody>\n    <tr>\n      <th>0</th>\n      <td>Acc/train_test</td>\n      <td>0.263475</td>\n      <td>0.0</td>\n    </tr>\n    <tr>\n      <th>1</th>\n      <td>Acc/train_test</td>\n      <td>0.355218</td>\n      <td>1.0</td>\n    </tr>\n    <tr>\n      <th>2</th>\n      <td>Acc/train_test</td>\n      <td>0.459791</td>\n      <td>2.0</td>\n    </tr>\n    <tr>\n      <th>3</th>\n      <td>Acc/train_test</td>\n      <td>0.532182</td>\n      <td>3.0</td>\n    </tr>\n    <tr>\n      <th>4</th>\n      <td>Acc/train_test</td>\n      <td>0.570527</td>\n      <td>4.0</td>\n    </tr>\n    <tr>\n      <th>...</th>\n      <td>...</td>\n      <td>...</td>\n      <td>...</td>\n    </tr>\n    <tr>\n      <th>95</th>\n      <td>Acc/train_test</td>\n      <td>0.873925</td>\n      <td>95.0</td>\n    </tr>\n    <tr>\n      <th>96</th>\n      <td>Acc/train_test</td>\n      <td>0.873997</td>\n      <td>96.0</td>\n    </tr>\n    <tr>\n      <th>97</th>\n      <td>Acc/train_test</td>\n      <td>0.874140</td>\n      <td>97.0</td>\n    </tr>\n    <tr>\n      <th>98</th>\n      <td>Acc/train_test</td>\n      <td>0.874355</td>\n      <td>98.0</td>\n    </tr>\n    <tr>\n      <th>99</th>\n      <td>Acc/train_test</td>\n      <td>0.874355</td>\n      <td>99.0</td>\n    </tr>\n  </tbody>\n</table>\n<p>100 rows × 3 columns</p>\n</div>"
     },
     "execution_count": 19,
     "metadata": {},
     "output_type": "execute_result"
    }
   ],
   "source": [
    "runlog_data"
   ],
   "metadata": {
    "collapsed": false
   }
  },
  {
   "cell_type": "code",
   "execution_count": 16,
   "outputs": [
    {
     "name": "stdout",
     "output_type": "stream",
     "text": [
      "../logs/news/coteaching_plus\\symmetric_0.2_seed1_cc_2022-10-30-18-07\n",
      "../logs/news/coteaching_plus\\symmetric_0.2_seed1_cl_2022-11-01-09-16\n",
      "../logs/news/coteaching_plus\\symmetric_0.2_seed1_fc_2022-10-29-13-02\n",
      "../logs/news/coteaching_plus\\symmetric_0.2_seed1_ff_2022-10-29-11-02\n",
      "../logs/news/coteaching_plus\\symmetric_0.2_seed1_fl_2022-10-30-10-31\n",
      "../logs/news/coteaching_plus\\symmetric_0.2_seed1_ll_2022-11-02-09-32\n",
      "../logs/news/coteaching_plus\\symmetric_0.2_seed1_ll_2022-11-03-09-24\n",
      "../logs/news/coteaching_plus\\symmetric_0.2_seed1_ll_2022-11-03-14-40\n",
      "../logs/news/coteaching_plus\\symmetric_0.2_seed2_cc_2022-10-31-09-30\n",
      "../logs/news/coteaching_plus\\symmetric_0.2_seed2_cl_2022-11-01-11-58\n",
      "../logs/news/coteaching_plus\\symmetric_0.2_seed2_fc_2022-10-29-14-46\n",
      "../logs/news/coteaching_plus\\symmetric_0.2_seed2_ff_2022-10-29-11-25\n",
      "../logs/news/coteaching_plus\\symmetric_0.2_seed2_fl_2022-10-30-12-04\n",
      "../logs/news/coteaching_plus\\symmetric_0.2_seed2_ll_2022-11-02-12-07\n",
      "../logs/news/coteaching_plus\\symmetric_0.2_seed2_ll_2022-11-03-10-28\n",
      "../logs/news/coteaching_plus\\symmetric_0.2_seed2_ll_2022-11-03-16-26\n",
      "../logs/news/coteaching_plus\\symmetric_0.2_seed3_cc_2022-10-31-12-20\n",
      "../logs/news/coteaching_plus\\symmetric_0.2_seed3_cl_2022-11-01-14-41\n",
      "../logs/news/coteaching_plus\\symmetric_0.2_seed3_fc_2022-10-29-16-27\n",
      "../logs/news/coteaching_plus\\symmetric_0.2_seed3_ff_2022-10-29-11-49\n",
      "../logs/news/coteaching_plus\\symmetric_0.2_seed3_fl_2022-10-30-13-33\n",
      "../logs/news/coteaching_plus\\symmetric_0.2_seed3_ll_2022-11-02-14-42\n",
      "../logs/news/coteaching_plus\\symmetric_0.2_seed3_ll_2022-11-03-11-31\n",
      "../logs/news/coteaching_plus\\symmetric_0.2_seed3_ll_2022-11-03-18-12\n",
      "../logs/news/coteaching_plus\\symmetric_0.2_seed4_cc_2022-10-31-15-11\n",
      "../logs/news/coteaching_plus\\symmetric_0.2_seed4_cl_2022-11-01-17-23\n",
      "../logs/news/coteaching_plus\\symmetric_0.2_seed4_fc_2022-10-29-18-05\n",
      "../logs/news/coteaching_plus\\symmetric_0.2_seed4_ff_2022-10-29-12-13\n",
      "../logs/news/coteaching_plus\\symmetric_0.2_seed4_fl_2022-10-30-15-07\n",
      "../logs/news/coteaching_plus\\symmetric_0.2_seed4_ll_2022-11-02-17-17\n",
      "../logs/news/coteaching_plus\\symmetric_0.2_seed4_ll_2022-11-03-12-34\n",
      "../logs/news/coteaching_plus\\symmetric_0.2_seed4_ll_2022-11-03-19-58\n",
      "../logs/news/coteaching_plus\\symmetric_0.2_seed5_cc_2022-10-31-18-02\n",
      "../logs/news/coteaching_plus\\symmetric_0.2_seed5_cl_2022-11-01-20-05\n",
      "../logs/news/coteaching_plus\\symmetric_0.2_seed5_fc_2022-10-29-19-43\n",
      "../logs/news/coteaching_plus\\symmetric_0.2_seed5_ff_2022-10-29-12-38\n",
      "../logs/news/coteaching_plus\\symmetric_0.2_seed5_fl_2022-10-30-16-37\n",
      "../logs/news/coteaching_plus\\symmetric_0.2_seed5_ll_2022-11-02-19-53\n",
      "../logs/news/coteaching_plus\\symmetric_0.2_seed5_ll_2022-11-03-13-37\n",
      "../logs/news/coteaching_plus\\symmetric_0.2_seed5_ll_2022-11-03-21-44\n"
     ]
    }
   ],
   "source": [
    "from glob import glob\n",
    "import os\n",
    "\n",
    "rootdir = r'C:\\Users\\SHIN-DESKTOP\\Documents\\remote\\diff_model_coteaching_plus\\logs\\news\\coteaching_plus'\n",
    "rootdir = '../logs/news/coteaching_plus'\n",
    "\n",
    "for it in os.scandir(rootdir):\n",
    "    if it.is_dir():\n",
    "        print(it.path)"
   ],
   "metadata": {
    "collapsed": false
   }
  },
  {
   "cell_type": "code",
   "execution_count": null,
   "outputs": [],
   "source": [],
   "metadata": {
    "collapsed": false
   }
  }
 ],
 "metadata": {
  "kernelspec": {
   "display_name": "Python 3",
   "language": "python",
   "name": "python3"
  },
  "language_info": {
   "codemirror_mode": {
    "name": "ipython",
    "version": 2
   },
   "file_extension": ".py",
   "mimetype": "text/x-python",
   "name": "python",
   "nbconvert_exporter": "python",
   "pygments_lexer": "ipython2",
   "version": "2.7.6"
  }
 },
 "nbformat": 4,
 "nbformat_minor": 0
}
